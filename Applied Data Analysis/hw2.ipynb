{
 "cells": [
  {
   "cell_type": "markdown",
   "metadata": {
    "pycharm": {
     "name": "#%% md\n"
    }
   },
   "source": [
    "# Homework 2 (HW2)\n",
    "\n",
    "---\n",
    "By the end of this homework we expect you to be able to:\n",
    "1. Preprocess data and make it amenable to statistical analysis and machine learning models;\n",
    "2. Train and test out-of-the-box machine learning models in Python;\n",
    "3. Carry out statistical hypothesis testing;\n",
    "4. Carry out simple multivariate regression analyses;\n",
    "5. Use techniques to control for covariates;\n",
    "\n",
    "---\n",
    "\n",
    "## Important Dates\n",
    "\n",
    "- Homework release: Fri 12 Nov 2021\n",
    "- **Homework due**: Fri 26 Nov 2021, 23:59\n",
    "- Grade release: Fri 03 Dec 2021\n",
    "\n",
    "---\n",
    "\n",
    "##  Some rules\n",
    "\n",
    "1. You are allowed to use any built-in Python library that comes with Anaconda. If you want to use an external library, \n",
    "you may do so, but must justify your choice.\n",
    "2. Make sure you use the `data` folder provided in the repository in read-only mode. (Or alternatively, be sure you \n",
    "don’t change any of the files.)\n",
    "3. Be sure to provide a textual description of your thought process, the assumptions you made, the solution you \n",
    "implemented, and explanations for your answers. A notebook that only has code cells will not suffice.\n",
    "4. For questions containing the **/Discuss:/** prefix, answer not with code, but with a textual explanation\n",
    " (**in markdown**).\n",
    "5. Back up any hypotheses and claims with data, since this is an important aspect of the course.\n",
    "6. Please write all your comments in English, and use meaningful variable names in your code. Your repo should have a \n",
    "single notebook (plus the required data files) in the *master/main* branch. If there are multiple notebooks present, \n",
    "we will **not grade** anything.\n",
    "7. We will **not run your notebook for you**! Rather, we will grade it as is, which means that only the results \n",
    "contained in your evaluated code cells will be considered, and we will not see the results in unevaluated code cells. \n",
    "Thus, be sure to hand in a **fully-run and evaluated notebook**. In order to check whether everything looks as intended, you can check the rendered notebook on the GitHub website once you have pushed your solution there.\n",
    "8. In continuation to the previous point, interactive plots, such as those generated using `plotly`, should be **strictly avoided**!\n",
    "9. Make sure to print results or dataframes that confirm you have properly addressed the task.\n",
    "\n",
    "---\n",
    "\n",
    "## Context\n",
    "\n",
    "Congratulations! You have just been hired as a data scientist at *Piccardi Music,* a promising new music label created by a mysterious Italian disc jockey \"*Signor Piccardi*\". The company hired you to carry out a variety of data-related tasks, which will be explained in further detail below.\n",
    "\n",
    "---\n",
    "\n",
    "## The data\n",
    "\n",
    "For this homework you will use a dataset of 18,403 music reviews scraped from Pitchfork¹, including relevant metadata such as review author, review date, record release year, review score, and genre, along with the respective album's audio features pulled from Spotify's API. The data consists of the following columns:\n",
    "\n",
    "| Column   | Description  |\n",
    "|----------|:-------------|\n",
    "| `artist`           | The name of the artist who created the album being reviewed. |\n",
    "| `album`            | The name of the album being reviewed. |\n",
    "| `recordlabel`      | The name of the record label(s) who published the album. |\n",
    "| `releaseyear`      | The year that the album was released. |\n",
    "| `score`            | The score given to the album by the reviewer on a scale of 0.0 to 10.0. |\n",
    "| `reviewauthor`     | The name of the author who reviewed the album. |\n",
    "| `genre`            | The genre assigned to the album by Pitchfork. |\n",
    "| `reviewdate`       | The date that the review was published.  |\n",
    "| `key` | The estimated overall musical key of the track. Integers map to pitches using standard Pitch Class notation (e.g., 0 = C, 2 = D, and so on) |\n",
    "| `acousticness` | A confidence measure from 0.0 to 1.0 of whether an album is acoustic. 1.0 represents high confidencethat the album is acoustic. |\n",
    "| `danceability` | How suitable an album is for dancing based on a combination of musical elements including tempo, rhythm stability, beat strength, and overall regularity. A value of 1.0 is most danceable.\n",
    "| `energy` | A perceptual measure of intensity and activity, from 0.0 to 1.0, where 1.0 represents high energy. Metal is often high energy. |\n",
    "| `instrumentalness` | Predicts whether an album contains no vocals, from 0.0 to 1.0. The closer to 1.0, the more likely the album contains no vocals. |\n",
    "| `liveness` | Detects the presence of an audience, from 0.0 to 1.0. Scores greater than 0.8 indicate a strong likelihood the album is live. |\n",
    "| `loudness` | The overall loudness of the album in decibels (dB). |\n",
    "| `speechiness` | Measures the presence of spoken words in an album on a scale from 0.0 to 1.0. Scores higher than 0.66 indicate an album made entirely of spoken words, while scores below 0.33 indicate music and other non-speech-like elements. |\n",
    "| `valence` | A measure from 0.0 to 1.0 describing the musical positiveness conveyed by an album, where values closer to 1.0 indicate more positive sounds. |\n",
    "| `tempo` | The overall estimated tempo of an album in beats per minute (BPM). |\n",
    "\n",
    "¹Pinter, Anthony T., et al. \"P4KxSpotify: A Dataset of Pitchfork Music Reviews and Spotify Musical Features.\" Proceedings of the International AAAI Conference on Web and Social Media. Vol. 14. 2020."
   ]
  },
  {
   "cell_type": "code",
   "execution_count": 1,
   "metadata": {},
   "outputs": [],
   "source": [
    "# CHANGE THIS IF YOU NEED/WANT TOO\n",
    "\n",
    "# pandas / numpy\n",
    "import pandas as pd\n",
    "import numpy as np\n",
    "\n",
    "# plotting\n",
    "import matplotlib.pyplot as plt\n",
    "import seaborn as sns\n",
    "\n",
    "# datetime operations\n",
    "from datetime import datetime\n",
    "\n",
    "# ttest and euclidean distance\n",
    "from scipy.stats import ttest_ind\n",
    "from scipy.spatial.distance import seuclidean\n",
    "\n",
    "# linear fit using statsmodels\n",
    "import statsmodels.api as sm\n",
    "import statsmodels.formula.api as smf\n",
    "\n",
    "# good ole sklearn\n",
    "from sklearn.metrics import euclidean_distances, r2_score\n",
    "from sklearn.linear_model import LinearRegression\n",
    "from sklearn.ensemble import GradientBoostingRegressor\n",
    "\n",
    "# displaying markdown strings\n",
    "from IPython.display import display, Markdown, Latex"
   ]
  },
  {
   "cell_type": "markdown",
   "metadata": {
    "pycharm": {
     "name": "#%% md\n"
    }
   },
   "source": [
    "## Part 1: Will this album be a hit?\n",
    "\n",
    "The first project you embark on in your new job is to build a regressor to predict whether an album will be well received or not. According to *Signor Piccardi* (your boss), this algorithm may eventually be helpful in forecasting the success of albums produced by *Piccardi Music*."
   ]
  },
  {
   "cell_type": "markdown",
   "metadata": {},
   "source": [
    "**Task 1 (Initial analyses — 10 pts)**\n",
    "\n",
    "As a good data scientist, the first thing you do is to have a good look at the data that was handed to you.\n",
    "\n",
    "1. Load the data using `pandas`. Identify and remove duplicate reviews, i.e., two reviews with albums by the same band with the same name (keep the first occurrence). Print the number of rows in your dataframe.\n",
    "\n",
    "2. Plot the distribution of album release years and the average score of albums per year.\n",
    "\n",
    "3. For numerical columns, calculate the mean, median, minimum value and maximum value. Additionally, plot the distribution for all the numerical columns in a single image (possibly with multiple subplots). Your image should be at most 14 inches wide by 14 inches long.\n",
    "\n",
    "3. For categorical columns, list how many different values there are in each column. If there are less than 10 distinct values for a category, print them all. For the `genre` column, assign the value `'Other'` for albums where the value is either `'none'` or `NaN`.\n",
    "\n",
    "5. **Discuss:** This dataset was built with *found data*—i.e., the Pitchfork reviews were not made with the goal of training a machine learning model. Grounded on the previous analyses and in Pitchfork's [Wikipedia page](https://en.wikipedia.org/wiki/Pitchfork_(website)), point **three** (exactly!) ways in which this data may not be representative of music albums in general due to the way the data was collected. \n",
    "\n",
    "---"
   ]
  },
  {
   "cell_type": "markdown",
   "metadata": {},
   "source": [
    "**Task 1**"
   ]
  },
  {
   "cell_type": "markdown",
   "metadata": {},
   "source": [
    "**Task 1 Question 1:** load the data and remove duplicated columns"
   ]
  },
  {
   "cell_type": "code",
   "execution_count": 2,
   "metadata": {},
   "outputs": [
    {
     "name": "stdout",
     "output_type": "stream",
     "text": [
      "number of rows: 16738\n"
     ]
    },
    {
     "data": {
      "text/html": [
       "<div>\n",
       "<style scoped>\n",
       "    .dataframe tbody tr th:only-of-type {\n",
       "        vertical-align: middle;\n",
       "    }\n",
       "\n",
       "    .dataframe tbody tr th {\n",
       "        vertical-align: top;\n",
       "    }\n",
       "\n",
       "    .dataframe thead th {\n",
       "        text-align: right;\n",
       "    }\n",
       "</style>\n",
       "<table border=\"1\" class=\"dataframe\">\n",
       "  <thead>\n",
       "    <tr style=\"text-align: right;\">\n",
       "      <th></th>\n",
       "      <th>artist</th>\n",
       "      <th>album</th>\n",
       "      <th>reviewauthor</th>\n",
       "      <th>score</th>\n",
       "      <th>releaseyear</th>\n",
       "      <th>reviewdate</th>\n",
       "      <th>recordlabel</th>\n",
       "      <th>genre</th>\n",
       "      <th>danceability</th>\n",
       "      <th>energy</th>\n",
       "      <th>key</th>\n",
       "      <th>loudness</th>\n",
       "      <th>speechiness</th>\n",
       "      <th>acousticness</th>\n",
       "      <th>instrumentalness</th>\n",
       "      <th>liveness</th>\n",
       "      <th>valence</th>\n",
       "      <th>tempo</th>\n",
       "    </tr>\n",
       "  </thead>\n",
       "  <tbody>\n",
       "    <tr>\n",
       "      <th>6744</th>\n",
       "      <td>Joe Lally</td>\n",
       "      <td>There to Here</td>\n",
       "      <td>Jason Crock</td>\n",
       "      <td>6.4</td>\n",
       "      <td>2006.0</td>\n",
       "      <td>January 18 2007</td>\n",
       "      <td>Dischord</td>\n",
       "      <td>Metal</td>\n",
       "      <td>0.408692</td>\n",
       "      <td>0.483923</td>\n",
       "      <td>5.769231</td>\n",
       "      <td>-7.549077</td>\n",
       "      <td>0.039892</td>\n",
       "      <td>0.870615</td>\n",
       "      <td>0.839385</td>\n",
       "      <td>0.134700</td>\n",
       "      <td>0.332923</td>\n",
       "      <td>128.633538</td>\n",
       "    </tr>\n",
       "    <tr>\n",
       "      <th>13801</th>\n",
       "      <td>Prince</td>\n",
       "      <td>Dirty Mind</td>\n",
       "      <td>Barry Walters</td>\n",
       "      <td>10.0</td>\n",
       "      <td>1980.0</td>\n",
       "      <td>April 29 2016</td>\n",
       "      <td>Warner Bros.</td>\n",
       "      <td>Pop/R&amp;B</td>\n",
       "      <td>0.803250</td>\n",
       "      <td>0.405000</td>\n",
       "      <td>5.250000</td>\n",
       "      <td>-13.610375</td>\n",
       "      <td>0.122963</td>\n",
       "      <td>0.042924</td>\n",
       "      <td>0.356039</td>\n",
       "      <td>0.118400</td>\n",
       "      <td>0.699013</td>\n",
       "      <td>121.294750</td>\n",
       "    </tr>\n",
       "    <tr>\n",
       "      <th>13237</th>\n",
       "      <td>Prince Rama</td>\n",
       "      <td>Top 10 Hits of the End of the World</td>\n",
       "      <td>Zach Kelly</td>\n",
       "      <td>6.8</td>\n",
       "      <td>2012.0</td>\n",
       "      <td>November 9 2012</td>\n",
       "      <td>Paw Tracks</td>\n",
       "      <td>Electronic</td>\n",
       "      <td>0.445800</td>\n",
       "      <td>0.762100</td>\n",
       "      <td>4.300000</td>\n",
       "      <td>-7.477300</td>\n",
       "      <td>0.045400</td>\n",
       "      <td>0.103392</td>\n",
       "      <td>0.316400</td>\n",
       "      <td>0.426140</td>\n",
       "      <td>0.360580</td>\n",
       "      <td>118.981200</td>\n",
       "    </tr>\n",
       "    <tr>\n",
       "      <th>9494</th>\n",
       "      <td>A Northern Chorus</td>\n",
       "      <td>Bitter Hands Resign</td>\n",
       "      <td>Brian Howe</td>\n",
       "      <td>6.0</td>\n",
       "      <td>2005.0</td>\n",
       "      <td>June 5 2005</td>\n",
       "      <td>Sonic Unyon</td>\n",
       "      <td>Rock</td>\n",
       "      <td>0.338625</td>\n",
       "      <td>0.390000</td>\n",
       "      <td>6.125000</td>\n",
       "      <td>-9.248875</td>\n",
       "      <td>0.032375</td>\n",
       "      <td>0.215873</td>\n",
       "      <td>0.337888</td>\n",
       "      <td>0.131763</td>\n",
       "      <td>0.117375</td>\n",
       "      <td>110.233625</td>\n",
       "    </tr>\n",
       "  </tbody>\n",
       "</table>\n",
       "</div>"
      ],
      "text/plain": [
       "                  artist                                album   reviewauthor  \\\n",
       "6744           Joe Lally                        There to Here    Jason Crock   \n",
       "13801             Prince                           Dirty Mind  Barry Walters   \n",
       "13237        Prince Rama  Top 10 Hits of the End of the World     Zach Kelly   \n",
       "9494   A Northern Chorus                  Bitter Hands Resign     Brian Howe   \n",
       "\n",
       "       score  releaseyear       reviewdate   recordlabel       genre  \\\n",
       "6744     6.4       2006.0  January 18 2007      Dischord       Metal   \n",
       "13801   10.0       1980.0    April 29 2016  Warner Bros.     Pop/R&B   \n",
       "13237    6.8       2012.0  November 9 2012    Paw Tracks  Electronic   \n",
       "9494     6.0       2005.0      June 5 2005   Sonic Unyon        Rock   \n",
       "\n",
       "       danceability    energy       key   loudness  speechiness  acousticness  \\\n",
       "6744       0.408692  0.483923  5.769231  -7.549077     0.039892      0.870615   \n",
       "13801      0.803250  0.405000  5.250000 -13.610375     0.122963      0.042924   \n",
       "13237      0.445800  0.762100  4.300000  -7.477300     0.045400      0.103392   \n",
       "9494       0.338625  0.390000  6.125000  -9.248875     0.032375      0.215873   \n",
       "\n",
       "       instrumentalness  liveness   valence       tempo  \n",
       "6744           0.839385  0.134700  0.332923  128.633538  \n",
       "13801          0.356039  0.118400  0.699013  121.294750  \n",
       "13237          0.316400  0.426140  0.360580  118.981200  \n",
       "9494           0.337888  0.131763  0.117375  110.233625  "
      ]
     },
     "execution_count": 2,
     "metadata": {},
     "output_type": "execute_result"
    }
   ],
   "source": [
    "df = pd.read_csv(\"./data/pitchfork.csv.gz\") # Load the data using `pandas`\n",
    "df_drop_duplicates = df.drop_duplicates(subset=['artist', 'album'], keep='first') # remove duplicate reviews\n",
    "print(f'number of rows: {len(df_drop_duplicates.index)}') # print number of rows\n",
    "df_drop_duplicates.sample(4)"
   ]
  },
  {
   "cell_type": "markdown",
   "metadata": {},
   "source": [
    "**Task1 Question2:** visualize distribution of release year and average score"
   ]
  },
  {
   "cell_type": "code",
   "execution_count": 3,
   "metadata": {},
   "outputs": [
    {
     "data": {
      "text/plain": [
       "Text(0.5, 1.0, 'The distribution of albulm release year')"
      ]
     },
     "execution_count": 3,
     "metadata": {},
     "output_type": "execute_result"
    },
    {
     "data": {
      "image/png": "[encoded data removed]",
      "text/plain": [
       "<Figure size 432x288 with 1 Axes>"
      ]
     },
     "metadata": {
      "needs_background": "light"
     },
     "output_type": "display_data"
    }
   ],
   "source": [
    "df_drop_duplicates['releaseyear'].plot.hist() # distribution of album release years\n",
    "plt.xlabel('release year')\n",
    "plt.ylabel('number of albulms')\n",
    "plt.title('The distribution of albulm release year')"
   ]
  },
  {
   "cell_type": "code",
   "execution_count": 4,
   "metadata": {},
   "outputs": [
    {
     "data": {
      "text/plain": [
       "Text(0.5, 1.0, 'Average score of albulms per year')"
      ]
     },
     "execution_count": 4,
     "metadata": {},
     "output_type": "execute_result"
    },
    {
     "data": {
      "image/png": "[encoded data removed]",
      "text/plain": [
       "<Figure size 432x288 with 1 Axes>"
      ]
     },
     "metadata": {
      "needs_background": "light"
     },
     "output_type": "display_data"
    }
   ],
   "source": [
    "df_drop_duplicates.groupby('releaseyear')['score'].mean().plot(xlabel='year', ylabel='average score') # average score of albums per year\n",
    "plt.title('Average score of albulms per year')"
   ]
  },
  {
   "cell_type": "markdown",
   "metadata": {},
   "source": [
    "**Task 1 Question 3**: statistics of numerical columns."
   ]
  },
  {
   "cell_type": "code",
   "execution_count": 5,
   "metadata": {},
   "outputs": [
    {
     "data": {
      "text/html": [
       "<div>\n",
       "<style scoped>\n",
       "    .dataframe tbody tr th:only-of-type {\n",
       "        vertical-align: middle;\n",
       "    }\n",
       "\n",
       "    .dataframe tbody tr th {\n",
       "        vertical-align: top;\n",
       "    }\n",
       "\n",
       "    .dataframe thead th {\n",
       "        text-align: right;\n",
       "    }\n",
       "</style>\n",
       "<table border=\"1\" class=\"dataframe\">\n",
       "  <thead>\n",
       "    <tr style=\"text-align: right;\">\n",
       "      <th></th>\n",
       "      <th>mean</th>\n",
       "      <th>median</th>\n",
       "      <th>min</th>\n",
       "      <th>max</th>\n",
       "    </tr>\n",
       "  </thead>\n",
       "  <tbody>\n",
       "    <tr>\n",
       "      <th>score</th>\n",
       "      <td>7.048596</td>\n",
       "      <td>7.300000</td>\n",
       "      <td>0.00000</td>\n",
       "      <td>10.000</td>\n",
       "    </tr>\n",
       "    <tr>\n",
       "      <th>releaseyear</th>\n",
       "      <td>2009.346338</td>\n",
       "      <td>2010.000000</td>\n",
       "      <td>1957.00000</td>\n",
       "      <td>2019.000</td>\n",
       "    </tr>\n",
       "    <tr>\n",
       "      <th>danceability</th>\n",
       "      <td>0.512334</td>\n",
       "      <td>0.511348</td>\n",
       "      <td>-1.00000</td>\n",
       "      <td>0.974</td>\n",
       "    </tr>\n",
       "    <tr>\n",
       "      <th>energy</th>\n",
       "      <td>0.601276</td>\n",
       "      <td>0.624722</td>\n",
       "      <td>-1.00000</td>\n",
       "      <td>0.999</td>\n",
       "    </tr>\n",
       "    <tr>\n",
       "      <th>key</th>\n",
       "      <td>5.216501</td>\n",
       "      <td>5.230769</td>\n",
       "      <td>-1.00000</td>\n",
       "      <td>11.000</td>\n",
       "    </tr>\n",
       "    <tr>\n",
       "      <th>loudness</th>\n",
       "      <td>-9.283268</td>\n",
       "      <td>-8.444263</td>\n",
       "      <td>-51.72875</td>\n",
       "      <td>4.078</td>\n",
       "    </tr>\n",
       "    <tr>\n",
       "      <th>speechiness</th>\n",
       "      <td>0.090742</td>\n",
       "      <td>0.056665</td>\n",
       "      <td>-1.00000</td>\n",
       "      <td>0.958</td>\n",
       "    </tr>\n",
       "    <tr>\n",
       "      <th>acousticness</th>\n",
       "      <td>0.301914</td>\n",
       "      <td>0.228844</td>\n",
       "      <td>-1.00000</td>\n",
       "      <td>0.996</td>\n",
       "    </tr>\n",
       "    <tr>\n",
       "      <th>instrumentalness</th>\n",
       "      <td>0.274748</td>\n",
       "      <td>0.149363</td>\n",
       "      <td>-1.00000</td>\n",
       "      <td>0.982</td>\n",
       "    </tr>\n",
       "    <tr>\n",
       "      <th>liveness</th>\n",
       "      <td>0.196402</td>\n",
       "      <td>0.174261</td>\n",
       "      <td>-1.00000</td>\n",
       "      <td>0.978</td>\n",
       "    </tr>\n",
       "    <tr>\n",
       "      <th>valence</th>\n",
       "      <td>0.405268</td>\n",
       "      <td>0.406288</td>\n",
       "      <td>-1.00000</td>\n",
       "      <td>0.971</td>\n",
       "    </tr>\n",
       "    <tr>\n",
       "      <th>tempo</th>\n",
       "      <td>120.326487</td>\n",
       "      <td>120.397346</td>\n",
       "      <td>-1.00000</td>\n",
       "      <td>215.972</td>\n",
       "    </tr>\n",
       "  </tbody>\n",
       "</table>\n",
       "</div>"
      ],
      "text/plain": [
       "                         mean       median         min       max\n",
       "score                7.048596     7.300000     0.00000    10.000\n",
       "releaseyear       2009.346338  2010.000000  1957.00000  2019.000\n",
       "danceability         0.512334     0.511348    -1.00000     0.974\n",
       "energy               0.601276     0.624722    -1.00000     0.999\n",
       "key                  5.216501     5.230769    -1.00000    11.000\n",
       "loudness            -9.283268    -8.444263   -51.72875     4.078\n",
       "speechiness          0.090742     0.056665    -1.00000     0.958\n",
       "acousticness         0.301914     0.228844    -1.00000     0.996\n",
       "instrumentalness     0.274748     0.149363    -1.00000     0.982\n",
       "liveness             0.196402     0.174261    -1.00000     0.978\n",
       "valence              0.405268     0.406288    -1.00000     0.971\n",
       "tempo              120.326487   120.397346    -1.00000   215.972"
      ]
     },
     "execution_count": 5,
     "metadata": {},
     "output_type": "execute_result"
    }
   ],
   "source": [
    "df_numerical = df_drop_duplicates.select_dtypes(include=['float64']) # find the numerical columns\n",
    "numerical_columns_name = df_numerical.columns \n",
    "df_numerical_stats = pd.concat([df_numerical.mean(axis=0).rename('mean'), df_numerical.median(axis=0).rename('median'), df_numerical.min(axis=0).rename('min'), df_numerical.max(axis=0).rename('max')], axis=1)\n",
    "df_numerical_stats # demonstrate the table of statistics of numerical features"
   ]
  },
  {
   "cell_type": "code",
   "execution_count": 6,
   "metadata": {
    "scrolled": true
   },
   "outputs": [
    {
     "name": "stdout",
     "output_type": "stream",
     "text": [
      "distribution of numerical features:\n"
     ]
    },
    {
     "data": {
      "text/plain": [
       "array([[<AxesSubplot:title={'center':'score'}>,\n",
       "        <AxesSubplot:title={'center':'releaseyear'}>,\n",
       "        <AxesSubplot:title={'center':'danceability'}>],\n",
       "       [<AxesSubplot:title={'center':'energy'}>,\n",
       "        <AxesSubplot:title={'center':'key'}>,\n",
       "        <AxesSubplot:title={'center':'loudness'}>],\n",
       "       [<AxesSubplot:title={'center':'speechiness'}>,\n",
       "        <AxesSubplot:title={'center':'acousticness'}>,\n",
       "        <AxesSubplot:title={'center':'instrumentalness'}>],\n",
       "       [<AxesSubplot:title={'center':'liveness'}>,\n",
       "        <AxesSubplot:title={'center':'valence'}>,\n",
       "        <AxesSubplot:title={'center':'tempo'}>]], dtype=object)"
      ]
     },
     "execution_count": 6,
     "metadata": {},
     "output_type": "execute_result"
    },
    {
     "data": {
      "image/png": "[encoded data removed]",
      "text/plain": [
       "<Figure size 1008x1008 with 12 Axes>"
      ]
     },
     "metadata": {
      "needs_background": "light"
     },
     "output_type": "display_data"
    }
   ],
   "source": [
    "# Here we visualize the distributions\n",
    "print('distribution of numerical features:')\n",
    "df_drop_duplicates.select_dtypes(include=['float64']).hist(color=\"k\", bins = 50, figsize=(14,14))"
   ]
  },
  {
   "cell_type": "markdown",
   "metadata": {},
   "source": [
    "**Task 1 Question 4:** list numbers of values in categorical columns."
   ]
  },
  {
   "cell_type": "code",
   "execution_count": 7,
   "metadata": {},
   "outputs": [
    {
     "name": "stdout",
     "output_type": "stream",
     "text": [
      "Number of different artist is 7892\n",
      "Number of different album is 16183\n",
      "Number of different reviewauthor is 554\n",
      "Number of different reviewdate is 4876\n",
      "Number of different recordlabel is 3032\n",
      "Number of different genre is 10\n",
      "The categories in genre are: ['Electronic' 'Folk/Country' 'Rock' 'Rap' 'Global' 'Experimental' 'Metal'\n",
      " 'Pop/R&B' 'Jazz' 'Other']\n"
     ]
    }
   ],
   "source": [
    "pd.set_option('chained_assignment',None)\n",
    "df_drop_duplicates['genre'] = df_drop_duplicates['genre'].fillna('Other').replace('none', \"Other\") # Replace the 'none' and nan by 'others'\n",
    "# note: inplace=False to suppress chained assignment\n",
    "df_categorical = df_drop_duplicates.select_dtypes(include=['object']) # select categorical columns\n",
    "categorical_columns_name = df_categorical.columns\n",
    "for i in range(len(categorical_columns_name)): # display the number of categories in each categorical columns\n",
    "    categorical_column_name = categorical_columns_name[i]\n",
    "    categorical_column = df_categorical[categorical_column_name]\n",
    "    unique = categorical_column.unique()\n",
    "    print(f'Number of different {categorical_column_name} is {len(unique)}')\n",
    "    if len(unique) <= 10: # display the categories for small set (<=10)\n",
    "        print(f'The categories in {categorical_column_name} are: {unique}')\n"
   ]
  },
  {
   "cell_type": "markdown",
   "metadata": {},
   "source": [
    "**Task 1 Question 5:**\n",
    "1. The Pitchfork website is famous for rock music, the genre of music contained in the website might be biased.\n",
    "2. The reviewers in Pitchfork might have certain preferences in the music genres. Based on previous analysis, we find that many features of the music in the dataset have very skewed distributions. They are usually loud, energetic, and lack speech-like elements. Hence, the score of music on the website might be biased.\n",
    "3. The reviews from the websites are criticized as \"verbose and unreadable writing\" and \"overly florid\", which might not reflect the true character of the album."
   ]
  },
  {
   "cell_type": "markdown",
   "metadata": {
    "pycharm": {
     "name": "#%% md\n"
    }
   },
   "source": [
    "#### **Task 2 (Pre-processing and pipeline code — 12 pts)**\n",
    "\n",
    "Next, you decide to prepare the code that will help you in training your machine learning models. Also, you implement a simple baseline. For this task, **unless otherwise stated** you must implement functions yourself, instead of relying on `scikit-learn` (you can use `numpy` or `pandas`, though!).\n",
    "\n",
    "1. For each possible value in the `genre` column, create a new column called `{genre}_onehot` (e.g., for `genre=jazz`, create `jazz_onehot`). Collectively, these new columns should \"one hot-encode\" the genre column—for instance, if for a given album the `genre` is filled with the value `jazz`, the `jazz_onehot` column should equal 1 and all other `{genre}_onehot` columns should equal 0. \n",
    "\n",
    "2. Create a function `numpy_helper(df, cols)` to obtain a `numpy.array` out of your `dataframe`. The function should receive a dataframe `df` with N rows and a list of M columns `cols`, and should return a `np.array` of dimension (NxM).\n",
    "\n",
    "3. For each album, build an array of features `X` containing all genre-related one-hot features, and an array of outcomes `y` containing scores. Using the function [`sklearn.model_selection.train_test_split`](https://scikit-learn.org/stable/modules/generated/sklearn.model_selection.train_test_split.html) with `random_state=123`, split the data into a train set containing 70% of all data, and a test set containing the remaining 30%.\n",
    "\n",
    "4. Create your own baseline regressor. Using the training data (in the training stage), your regressor should estimate the average score for all albums. Then, for the test data (in the prediction stage), your classifier should always output the average score (computed on the training data).\n",
    "\n",
    "5. Calculate the [coefficient of determination ($R^2$)](https://scikit-learn.org/stable/modules/generated/sklearn.metrics.r2_score.html) of your baseline on the test data. **You are allowed to use the `sklearn` implementation here.**\n",
    "\n",
    "6. **Discuss:** Your train-test split randomly selected 70% of all data for the training set. Why is this a problem for the broader task of predicting whether a future album will be successful or not?\n",
    "\n",
    "---"
   ]
  },
  {
   "cell_type": "markdown",
   "metadata": {},
   "source": [
    "**Task 2 Question 1:** onehot encoding of the genres"
   ]
  },
  {
   "cell_type": "code",
   "execution_count": 8,
   "metadata": {},
   "outputs": [
    {
     "data": {
      "text/html": [
       "<div>\n",
       "<style scoped>\n",
       "    .dataframe tbody tr th:only-of-type {\n",
       "        vertical-align: middle;\n",
       "    }\n",
       "\n",
       "    .dataframe tbody tr th {\n",
       "        vertical-align: top;\n",
       "    }\n",
       "\n",
       "    .dataframe thead th {\n",
       "        text-align: right;\n",
       "    }\n",
       "</style>\n",
       "<table border=\"1\" class=\"dataframe\">\n",
       "  <thead>\n",
       "    <tr style=\"text-align: right;\">\n",
       "      <th></th>\n",
       "      <th>artist</th>\n",
       "      <th>album</th>\n",
       "      <th>reviewauthor</th>\n",
       "      <th>score</th>\n",
       "      <th>releaseyear</th>\n",
       "      <th>reviewdate</th>\n",
       "      <th>recordlabel</th>\n",
       "      <th>danceability</th>\n",
       "      <th>energy</th>\n",
       "      <th>key</th>\n",
       "      <th>...</th>\n",
       "      <th>Electronic_onehot</th>\n",
       "      <th>Experimental_onehot</th>\n",
       "      <th>Folk/Country_onehot</th>\n",
       "      <th>Global_onehot</th>\n",
       "      <th>Jazz_onehot</th>\n",
       "      <th>Metal_onehot</th>\n",
       "      <th>Other_onehot</th>\n",
       "      <th>Pop/R&amp;B_onehot</th>\n",
       "      <th>Rap_onehot</th>\n",
       "      <th>Rock_onehot</th>\n",
       "    </tr>\n",
       "  </thead>\n",
       "  <tbody>\n",
       "    <tr>\n",
       "      <th>9572</th>\n",
       "      <td>Le1f</td>\n",
       "      <td>Hey EP</td>\n",
       "      <td>Andrew Ryce</td>\n",
       "      <td>7.6</td>\n",
       "      <td>2014.0</td>\n",
       "      <td>March 17 2014</td>\n",
       "      <td>XL</td>\n",
       "      <td>0.521000</td>\n",
       "      <td>0.287250</td>\n",
       "      <td>3.750000</td>\n",
       "      <td>...</td>\n",
       "      <td>0</td>\n",
       "      <td>0</td>\n",
       "      <td>0</td>\n",
       "      <td>0</td>\n",
       "      <td>0</td>\n",
       "      <td>0</td>\n",
       "      <td>0</td>\n",
       "      <td>0</td>\n",
       "      <td>1</td>\n",
       "      <td>0</td>\n",
       "    </tr>\n",
       "    <tr>\n",
       "      <th>11123</th>\n",
       "      <td>John Renbourn</td>\n",
       "      <td>The Attic Tapes</td>\n",
       "      <td>Grayson Haver Currin</td>\n",
       "      <td>6.5</td>\n",
       "      <td>2015.0</td>\n",
       "      <td>October 28 2015</td>\n",
       "      <td>Riverboat</td>\n",
       "      <td>0.369286</td>\n",
       "      <td>0.460643</td>\n",
       "      <td>3.857143</td>\n",
       "      <td>...</td>\n",
       "      <td>0</td>\n",
       "      <td>0</td>\n",
       "      <td>1</td>\n",
       "      <td>0</td>\n",
       "      <td>0</td>\n",
       "      <td>0</td>\n",
       "      <td>0</td>\n",
       "      <td>0</td>\n",
       "      <td>0</td>\n",
       "      <td>0</td>\n",
       "    </tr>\n",
       "    <tr>\n",
       "      <th>969</th>\n",
       "      <td>Phonophani</td>\n",
       "      <td>Oak or Rock</td>\n",
       "      <td>Mark Richardson</td>\n",
       "      <td>7.5</td>\n",
       "      <td>2005.0</td>\n",
       "      <td>April 3 2005</td>\n",
       "      <td>Rune Grammofon</td>\n",
       "      <td>0.243900</td>\n",
       "      <td>0.271100</td>\n",
       "      <td>5.100000</td>\n",
       "      <td>...</td>\n",
       "      <td>1</td>\n",
       "      <td>0</td>\n",
       "      <td>0</td>\n",
       "      <td>0</td>\n",
       "      <td>0</td>\n",
       "      <td>0</td>\n",
       "      <td>0</td>\n",
       "      <td>0</td>\n",
       "      <td>0</td>\n",
       "      <td>0</td>\n",
       "    </tr>\n",
       "    <tr>\n",
       "      <th>9163</th>\n",
       "      <td>Lackthereof</td>\n",
       "      <td>My Haunted</td>\n",
       "      <td>Joe Tangari</td>\n",
       "      <td>6.0</td>\n",
       "      <td>2008.0</td>\n",
       "      <td>July 23 2008</td>\n",
       "      <td>Film Guerrero</td>\n",
       "      <td>0.468462</td>\n",
       "      <td>0.223508</td>\n",
       "      <td>5.538462</td>\n",
       "      <td>...</td>\n",
       "      <td>0</td>\n",
       "      <td>0</td>\n",
       "      <td>0</td>\n",
       "      <td>0</td>\n",
       "      <td>0</td>\n",
       "      <td>0</td>\n",
       "      <td>0</td>\n",
       "      <td>0</td>\n",
       "      <td>0</td>\n",
       "      <td>1</td>\n",
       "    </tr>\n",
       "    <tr>\n",
       "      <th>14169</th>\n",
       "      <td>Those Peabodys</td>\n",
       "      <td>Unite Tonight</td>\n",
       "      <td>Andy Beta</td>\n",
       "      <td>4.2</td>\n",
       "      <td>2003.0</td>\n",
       "      <td>September 2 2003</td>\n",
       "      <td>Tiger Style</td>\n",
       "      <td>0.599688</td>\n",
       "      <td>0.442875</td>\n",
       "      <td>4.312500</td>\n",
       "      <td>...</td>\n",
       "      <td>0</td>\n",
       "      <td>0</td>\n",
       "      <td>0</td>\n",
       "      <td>0</td>\n",
       "      <td>0</td>\n",
       "      <td>0</td>\n",
       "      <td>0</td>\n",
       "      <td>0</td>\n",
       "      <td>0</td>\n",
       "      <td>1</td>\n",
       "    </tr>\n",
       "  </tbody>\n",
       "</table>\n",
       "<p>5 rows × 27 columns</p>\n",
       "</div>"
      ],
      "text/plain": [
       "               artist            album          reviewauthor  score  \\\n",
       "9572             Le1f           Hey EP           Andrew Ryce    7.6   \n",
       "11123   John Renbourn  The Attic Tapes  Grayson Haver Currin    6.5   \n",
       "969        Phonophani      Oak or Rock       Mark Richardson    7.5   \n",
       "9163      Lackthereof       My Haunted           Joe Tangari    6.0   \n",
       "14169  Those Peabodys    Unite Tonight             Andy Beta    4.2   \n",
       "\n",
       "       releaseyear        reviewdate     recordlabel  danceability    energy  \\\n",
       "9572        2014.0     March 17 2014              XL      0.521000  0.287250   \n",
       "11123       2015.0   October 28 2015       Riverboat      0.369286  0.460643   \n",
       "969         2005.0      April 3 2005  Rune Grammofon      0.243900  0.271100   \n",
       "9163        2008.0      July 23 2008   Film Guerrero      0.468462  0.223508   \n",
       "14169       2003.0  September 2 2003     Tiger Style      0.599688  0.442875   \n",
       "\n",
       "            key  ...  Electronic_onehot  Experimental_onehot  \\\n",
       "9572   3.750000  ...                  0                    0   \n",
       "11123  3.857143  ...                  0                    0   \n",
       "969    5.100000  ...                  1                    0   \n",
       "9163   5.538462  ...                  0                    0   \n",
       "14169  4.312500  ...                  0                    0   \n",
       "\n",
       "       Folk/Country_onehot  Global_onehot  Jazz_onehot  Metal_onehot  \\\n",
       "9572                     0              0            0             0   \n",
       "11123                    1              0            0             0   \n",
       "969                      0              0            0             0   \n",
       "9163                     0              0            0             0   \n",
       "14169                    0              0            0             0   \n",
       "\n",
       "       Other_onehot  Pop/R&B_onehot  Rap_onehot  Rock_onehot  \n",
       "9572              0               0           1            0  \n",
       "11123             0               0           0            0  \n",
       "969               0               0           0            0  \n",
       "9163              0               0           0            1  \n",
       "14169             0               0           0            1  \n",
       "\n",
       "[5 rows x 27 columns]"
      ]
     },
     "execution_count": 8,
     "metadata": {},
     "output_type": "execute_result"
    }
   ],
   "source": [
    "one_hot = pd.get_dummies(df_drop_duplicates, columns = ['genre']) # convert genre into onehot encoding\n",
    "# convert the column name into proper format\n",
    "genre_list = df_drop_duplicates['genre'].unique()\n",
    "onehot_dict = {('genre_' + genre_) : (genre_ + '_onehot') for genre_ in genre_list} \n",
    "one_hot = one_hot.rename(columns= onehot_dict)\n",
    "one_hot.sample(5)"
   ]
  },
  {
   "cell_type": "markdown",
   "metadata": {},
   "source": [
    "**Task 2 Question 2:** create the helper function to convert dataframe into numpy array"
   ]
  },
  {
   "cell_type": "code",
   "execution_count": 9,
   "metadata": {},
   "outputs": [],
   "source": [
    "# define the function to convert dataframe columns into numpy\n",
    "# It takes a dataframe and column names, and returns a numpy array of features in specified columns\n",
    "def numpy_helper(df, cols):\n",
    "    return df[cols].to_numpy()"
   ]
  },
  {
   "cell_type": "markdown",
   "metadata": {},
   "source": [
    "**Task 2 Question 3:** build features using onehot coding and split the dataset into training and test"
   ]
  },
  {
   "cell_type": "code",
   "execution_count": 10,
   "metadata": {},
   "outputs": [
    {
     "data": {
      "text/plain": [
       "(16738, 10)"
      ]
     },
     "execution_count": 10,
     "metadata": {},
     "output_type": "execute_result"
    }
   ],
   "source": [
    "# Build the features \n",
    "X = numpy_helper(one_hot, onehot_dict.values()) # features\n",
    "y = numpy_helper(one_hot, 'score') # scores\n",
    "X.shape # make sure features have the correct shape"
   ]
  },
  {
   "cell_type": "code",
   "execution_count": 11,
   "metadata": {},
   "outputs": [],
   "source": [
    "# split train and test set\n",
    "from sklearn.model_selection import train_test_split\n",
    "X_train, X_test, y_train, y_test = train_test_split(X, y, test_size=0.3, random_state=123)"
   ]
  },
  {
   "cell_type": "markdown",
   "metadata": {},
   "source": [
    "**Task 2 Question 4**: build the baseline regressor (here I build it like by defining a class, so that it can be called and adapted to different dataset if we need it later)"
   ]
  },
  {
   "cell_type": "code",
   "execution_count": 13,
   "metadata": {},
   "outputs": [],
   "source": [
    "# Baseline regressor\n",
    "class BaselineRegressor:\n",
    "    '''\n",
    "    Baseline regressor estimate the average of all train sets\n",
    "    It returns the average value when predicting\n",
    "    '''\n",
    "    def __init__(self):\n",
    "        self.score = None\n",
    "    \n",
    "    def train(self, y):\n",
    "        '''\n",
    "        Computes the average of scores and stores in score\n",
    "        '''\n",
    "        self.score = np.mean(y)\n",
    "    \n",
    "    def predict(self, X):\n",
    "        '''\n",
    "        returns the predicted score (the average stored in score)\n",
    "        '''\n",
    "        N = X.shape[0]\n",
    "        return self.score * np.ones(N)\n",
    "    \n",
    "# Train the BaselineRegressor on training data, and predict on test data\n",
    "baseline_reg = BaselineRegressor()\n",
    "baseline_reg.train(y_train)\n",
    "y_pred = baseline_reg.predict(X_test)\n",
    "assert(np.all(y_pred == y_train.mean())) # check the correctness: predict the average of training data"
   ]
  },
  {
   "cell_type": "markdown",
   "metadata": {},
   "source": [
    "**Task 2 Question 5:** calculate the coefficient of determination"
   ]
  },
  {
   "cell_type": "code",
   "execution_count": 14,
   "metadata": {},
   "outputs": [
    {
     "name": "stdout",
     "output_type": "stream",
     "text": [
      "The coefficient of determination (R^2) of Baseline regressor is: -8.75891503990811e-05\n"
     ]
    }
   ],
   "source": [
    "# calculate the coefficient of determination\n",
    "r2_base = r2_score(y_test, y_pred)\n",
    "print('The coefficient of determination (R^2) of Baseline regressor is: ' + str(r2_base))"
   ]
  },
  {
   "cell_type": "markdown",
   "metadata": {},
   "source": [
    "**Task 2 Question 6**\n",
    "\n",
    "This train-test split method makes prediction harder to succeed. Using this training method, the model tends to be overfitted to the 70% training set. As a result, it fails to generalize to the whole data and also fails to predict the test data. In the above calculation, the average training score has $R^2=0$ on the training set (which is expected due to the definition of $R^2$), but a slightly negative value in the test set. This happens because the prediction is the mean of the training scores, thereby ignoring other data in the test set. Cross-validation, which trains on a subset of data and validates on the other data, can be a solution to this problem."
   ]
  },
  {
   "cell_type": "markdown",
   "metadata": {},
   "source": [
    "**Task 3 (Regression — 14 pts)**\n",
    "\n",
    "Finally, you get down to business and train your regression models.\n",
    "\n",
    "1. Build a Linear Regression model (use `sklearn`) that predicts the outcome `score` using the features \"releaseyear\",  \"key\", \"acousticness\", \"danceability\", \"energy\", \"instrumentalness\", \"liveness\", \"loudness\", \"speechiness\", \"valence\", \"tempo\" and the one-hot encoded genre-related columns.  Using a 70/30 train-test split similar to what you did in task two (hereinafter referred to as \"the random split\", use the same random seed, `random_state=123`), report the $R^2$ for the testing set.\n",
    "\n",
    "2. Create an alternate train-test split (hereinafter referred to as \"the longitudinal split\") where you train with data from albums released before 2000 and test with data from 2003 and after. Report the $R^2$ for the testing set using the same model you developed for the previous question. **Discuss:** give the correct interpretation of $R^2$ value for the longitudinal split.\n",
    "\n",
    "3. For a given entry $X$ your model outputs a predicted score $Y'$. The difference between the real score $Y$ and the predicted score $Y'$ is called the \"residual\". Considering the model trained in 3.2, plot the distribution of your residuals for the test set. Additionally, estimate what is the probability that your score prediction (from 3.2) is off by more than 2-points? Provide bootstrapped confidence intervals for your answer.\n",
    "\n",
    "4. Experiment with training a different regressor, a Gradient Boosting Regressor. This regressor is related to the Boosted decision trees that you have seen in class. This model performs extremely well for a variety of tasks and is often used in machine learning competitions for tabular data (e.g., on Kaggle). Train the regressor using the longitudinal split and the same features as in 3.2, use the default hyperparameters. Report the $R^2$ for the testing set. \n",
    "\n",
    "5. **Discuss:** Hypothesize a reason for the difference in performance between the Linear regression and the Gradient Boosting Regressor.\n",
    "\n",
    "---"
   ]
  },
  {
   "cell_type": "markdown",
   "metadata": {},
   "source": [
    "**Task 3 Question 1:** Linear Regressor"
   ]
  },
  {
   "cell_type": "code",
   "execution_count": 15,
   "metadata": {},
   "outputs": [],
   "source": [
    "# Get the features and split data, using the pipline in task2\n",
    "feature_cols = list(onehot_dict.values()) + [\"releaseyear\", \"key\", \"acousticness\", \"danceability\", \"energy\", \"instrumentalness\", \"liveness\", \"loudness\", \"speechiness\", \"valence\", \"tempo\"]\n",
    "X = numpy_helper(one_hot, feature_cols)\n",
    "y = numpy_helper(one_hot, 'score')\n",
    "X_train, X_test, y_train, y_test = train_test_split(X, y, test_size=0.3, random_state=123)"
   ]
  },
  {
   "cell_type": "code",
   "execution_count": 16,
   "metadata": {},
   "outputs": [
    {
     "name": "stdout",
     "output_type": "stream",
     "text": [
      "The coefficient of determination (R^2) of linear regressor is: 0.04419659171609491\n"
     ]
    }
   ],
   "source": [
    "# Build a linear regression model\n",
    "linear_model = LinearRegression()\n",
    "# Train the model and compute the coefficient of determination\n",
    "linear_model.fit(X_train, y_train)\n",
    "r2_linear = linear_model.score(X_test, y_test)\n",
    "print('The coefficient of determination (R^2) of linear regressor is: ' + str(r2_linear))"
   ]
  },
  {
   "cell_type": "markdown",
   "metadata": {},
   "source": [
    "**Task 3 Question 2:** longitudinal data split"
   ]
  },
  {
   "cell_type": "code",
   "execution_count": 17,
   "metadata": {},
   "outputs": [],
   "source": [
    "# Get the new train data and test data\n",
    "before_2000 = one_hot[one_hot['releaseyear'] < 2000]\n",
    "after_2003 = one_hot[one_hot['releaseyear'] >= 2003]\n",
    "X_train_longl = numpy_helper(before_2000, feature_cols)\n",
    "y_train_longl = numpy_helper(before_2000, 'score')\n",
    "X_test_longl = numpy_helper(after_2003, feature_cols)\n",
    "y_test_longl = numpy_helper(after_2003, 'score')"
   ]
  },
  {
   "cell_type": "code",
   "execution_count": 18,
   "metadata": {},
   "outputs": [
    {
     "name": "stdout",
     "output_type": "stream",
     "text": [
      "The coefficient of determination (R^2) of linear regressor on longitudinal split is: -0.2832151171710293\n"
     ]
    }
   ],
   "source": [
    "# Train the model and compute the coefficient of determination on new data split\n",
    "linear_model.fit(X_train_longl, y_train_longl)\n",
    "r2_linear_longl = linear_model.score(X_test_longl, y_test_longl)\n",
    "print('The coefficient of determination (R^2) of linear regressor on longitudinal split is: ' + str(r2_linear_longl))"
   ]
  },
  {
   "cell_type": "markdown",
   "metadata": {},
   "source": [
    "**[Discussion]**: A negative value means that the average square error of the model on test data is even larger than the variance of test data. Not only did the model fail to explain the variance, but it also produces more variance. This indicates that the model is overfitted to the data before 2000. In Task 1 Question 3, we can see that the score drops significantly after 2000. Using the model fitted on data before 2000 will surely fail on predicting data after 2003."
   ]
  },
  {
   "cell_type": "markdown",
   "metadata": {},
   "source": [
    "**Task 3 Question 3:** Residue distribution"
   ]
  },
  {
   "cell_type": "code",
   "execution_count": 19,
   "metadata": {},
   "outputs": [
    {
     "data": {
      "text/plain": [
       "Text(0.5, 1.0, 'distribution of residues for model in 3.2')"
      ]
     },
     "execution_count": 19,
     "metadata": {},
     "output_type": "execute_result"
    },
    {
     "data": {
      "image/png": "[encoded data removed]",
      "text/plain": [
       "<Figure size 432x288 with 1 Axes>"
      ]
     },
     "metadata": {
      "needs_background": "light"
     },
     "output_type": "display_data"
    }
   ],
   "source": [
    "# Compute the residue and show distribution by histogram\n",
    "residue = y_test - linear_model.predict(X_test)\n",
    "plt.hist(residue, bins=20)\n",
    "plt.xlabel('residue')\n",
    "plt.ylabel('number of albums')\n",
    "plt.title('distribution of residues for model in 3.2')"
   ]
  },
  {
   "cell_type": "markdown",
   "metadata": {},
   "source": [
    "Estimate probability"
   ]
  },
  {
   "cell_type": "code",
   "execution_count": 20,
   "metadata": {},
   "outputs": [
    {
     "name": "stdout",
     "output_type": "stream",
     "text": [
      "The estimated probility that predition is off by more 2-points is 0.11150935882118677\n",
      "The confidence interval under confidence level of 0.95 is ConfidenceInterval(low=0.10294703305455993, high=0.12027080844285146)\n"
     ]
    }
   ],
   "source": [
    "# estimate probility of residue over 2.0 points\n",
    "print('The estimated probility that predition is off by more 2-points is {}'.format(residue[np.abs(residue)>2].shape[0]/residue.shape[0]))\n",
    "\n",
    "# calculate the confidence interval using bootstrap\n",
    "from scipy.stats import bootstrap\n",
    "confidence_level = 0.95\n",
    "bootstrap_result = bootstrap((residue,), lambda x:x[np.abs(x)>2].shape[0]/x.shape[0], confidence_level=confidence_level, vectorized = False)\n",
    "print('The confidence interval under confidence level of {} is {}'.format(confidence_level, bootstrap_result.confidence_interval))"
   ]
  },
  {
   "cell_type": "markdown",
   "metadata": {},
   "source": [
    "**Task 3 Question 4:** Gradient Boost Regressor"
   ]
  },
  {
   "cell_type": "code",
   "execution_count": 21,
   "metadata": {},
   "outputs": [
    {
     "name": "stdout",
     "output_type": "stream",
     "text": [
      "The coefficient of determination (R^2) of gradient boosting regressor is: -0.3808081952565494\n"
     ]
    }
   ],
   "source": [
    "# Build Gradient Boosting Regressor\n",
    "boost_model = GradientBoostingRegressor()\n",
    "# Train the model and compute the coefficient of determination\n",
    "boost_model.fit(X_train_longl, y_train_longl)\n",
    "r2_boost = boost_model.score(X_test_longl, y_test_longl)\n",
    "print('The coefficient of determination (R^2) of gradient boosting regressor is: ' + str(r2_boost))"
   ]
  },
  {
   "cell_type": "markdown",
   "metadata": {},
   "source": [
    "**Task 3 Question 5:**\n",
    "\n",
    "The boosted tree is a more advanced model, so it is even more overfitted to the training data than the linear regressor. When it is fed with the test data, it produces even more variance, thus having a more negative coefficient of determination."
   ]
  },
  {
   "cell_type": "markdown",
   "metadata": {},
   "source": [
    "**Task 4 (Are we solving the correct problem? — 16 pts)**\n",
    "\n",
    "All your efforts so far have assumed that decisions are taken at the \"album\" level, which is often not the case for bands with multiple albums. In those cases, it could be interesting to predict what is the success of a given band album given the features of the album **and of previous albums**.\n",
    "\n",
    "1. Create a new dataframe that contains one row per band with more than 1 album. This dataframe should have the same columns as the data provided to you, considering the latest album of the respective band (note that this is determined by the release year of the album, not the date when it was reviewed). Additionally, for each feature considered in Task 3.1 (including the one-hot encoded features), create an additional column post-fixed with `_previous` (e.g., `danceability_previous`). These columns should contain the average values for all of the band's previous albums. Also, create a column `score_previous` with the average score of previous albums. Print the number of rows in the dataframe as well as the name of the columns.\n",
    "\n",
    "2. Train a Gradient Boosting Regressor considering all features created in Task 4.1 (note that `score` is the outcome and everything else is a feature, including `score_previous`). Use the 70/30 random train-test split, the default hyperparameters, and report the $R^2$ for the testing set. \n",
    "\n",
    "3. Can hyperparameter tuning improve your model? Write modular code (i.e., a function) to divide your training data into $N$ folds and perform cross-validation. Experiment tuning two hyperparameters of the Gradient Boosting Regressor: `n_estimators` and `learning_rate`. For each possible combination of the two hyperparameters (see below for the range of values that you should try for each hyperparameter), train your model in a cross-validation setup with $N=20$ folds. Report the mean  $R^2$ along with the 90% CI for each scenario. \n",
    "    - n_estimators $ \\in  \\{ 100, 200, 300, 400\\}$\n",
    "    - learning_rate $ \\in  \\{ 0.1, 0.05, 0.01\\}$.\n",
    " \n",
    " With the best hyperparameters obtained, train your model with the entire training set and report the $R^2$ on the testing set.\n",
    " \n",
    "4. **Discuss:** How do these results compare with the previous setup (the scenario considered in **Task 3.4**)? Point out two reasons why it is hard to compare the results obtained in 4.3 and 3.4 at face value? How would you fairly compare the two different setups?\n",
    "\n",
    "---"
   ]
  },
  {
   "cell_type": "markdown",
   "metadata": {},
   "source": [
    "**Task 4 Question 1:** "
   ]
  },
  {
   "cell_type": "code",
   "execution_count": 22,
   "metadata": {},
   "outputs": [],
   "source": [
    "# Create a dataframe storing each band's last release \n",
    "df_band_last = one_hot.sort_values(by=['releaseyear'], ascending=False).drop_duplicates(subset=['artist'])\n",
    "# Calculate the mean of previous features\n",
    "ind_last_album = df_band_last.index\n",
    "df_previous = one_hot.drop(ind_last_album).groupby('artist')[feature_cols + ['score']].mean()"
   ]
  },
  {
   "cell_type": "code",
   "execution_count": 23,
   "metadata": {},
   "outputs": [
    {
     "name": "stdout",
     "output_type": "stream",
     "text": [
      "The number of rows is :3564\n",
      "The column names are:\n",
      " ['artist', 'album', 'reviewauthor', 'score', 'releaseyear', 'reviewdate', 'recordlabel', 'danceability', 'energy', 'key', 'loudness', 'speechiness', 'acousticness', 'instrumentalness', 'liveness', 'valence', 'tempo', 'Electronic_onehot', 'Experimental_onehot', 'Folk/Country_onehot', 'Global_onehot', 'Jazz_onehot', 'Metal_onehot', 'Other_onehot', 'Pop/R&B_onehot', 'Rap_onehot', 'Rock_onehot', 'Electronic_onehot_previous', 'Folk/Country_onehot_previous', 'Rock_onehot_previous', 'Rap_onehot_previous', 'Global_onehot_previous', 'Experimental_onehot_previous', 'Metal_onehot_previous', 'Pop/R&B_onehot_previous', 'Jazz_onehot_previous', 'Other_onehot_previous', 'releaseyear_previous', 'key_previous', 'acousticness_previous', 'danceability_previous', 'energy_previous', 'instrumentalness_previous', 'liveness_previous', 'loudness_previous', 'speechiness_previous', 'valence_previous', 'tempo_previous', 'score_previous']\n"
     ]
    }
   ],
   "source": [
    "# Merge the above two dataframe and create the required dataframe\n",
    "df_band = result = pd.merge(df_band_last, df_previous, on='artist', suffixes=(None, '_previous')) # we use inner join to filter out bands with only one album\n",
    "print('The number of rows is :' + str(len(df_band.index)))\n",
    "print('The column names are:\\n {}'.format(list(df_band.columns)))"
   ]
  },
  {
   "cell_type": "markdown",
   "metadata": {},
   "source": [
    "**Task 4 Question 2**: We use the features in task 3, and the ones with _previous postfix (created in 4.1)"
   ]
  },
  {
   "cell_type": "code",
   "execution_count": 24,
   "metadata": {},
   "outputs": [],
   "source": [
    "# Specify columns for features\n",
    "feature_cols4 = feature_cols + list(df_previous.columns)\n",
    "# Create the training and testing dataset\n",
    "X = numpy_helper(df_band, feature_cols4)\n",
    "y = numpy_helper(df_band, 'score')\n",
    "X_train, X_test, y_train, y_test = train_test_split(X, y, test_size=0.3, random_state=123)"
   ]
  },
  {
   "cell_type": "code",
   "execution_count": 25,
   "metadata": {},
   "outputs": [
    {
     "name": "stdout",
     "output_type": "stream",
     "text": [
      "The coefficient of determination (R^2) is: 0.9995113507056121\n"
     ]
    }
   ],
   "source": [
    "# Build Gradient Boosting Regressor\n",
    "boost_model = GradientBoostingRegressor()\n",
    "# Train the model and compute the coefficient of determination\n",
    "boost_model.fit(X_train, y_train)\n",
    "r2_boost = boost_model.score(X_test, y_test)\n",
    "print('The coefficient of determination (R^2) is: ' + str(r2_boost))"
   ]
  },
  {
   "cell_type": "markdown",
   "metadata": {},
   "source": [
    "**Task 4 Question 3:** hyperparameter tuning"
   ]
  },
  {
   "cell_type": "code",
   "execution_count": 26,
   "metadata": {},
   "outputs": [],
   "source": [
    "from sklearn.model_selection import cross_validate\n",
    "# initialize the result and hyperparameters for training\n",
    "k_fold = 20\n",
    "n_estimators_ = [100, 200, 300, 400]\n",
    "learning_rate_ = [0.1, 0.05, 0.01]\n",
    "mean_R2 = np.zeros((len(n_estimators_), len(learning_rate_)))\n",
    "lower_CI = np.zeros(mean_R2.shape)\n",
    "upper_CI = np.zeros(mean_R2.shape)"
   ]
  },
  {
   "cell_type": "markdown",
   "metadata": {},
   "source": [
    "In the following training, we consider the cross-validation process as bootstrapping the training set and obtain $R^2$ for each validation data. The 90% confidence interval is then the value of 5% and 95% after sorting the obtained list of $R^2$"
   ]
  },
  {
   "cell_type": "code",
   "execution_count": 28,
   "metadata": {},
   "outputs": [],
   "source": [
    "# train the gradient boosting regressor with different hyperparameter\n",
    "for i, est in enumerate(n_estimators_):\n",
    "    for j, lr in enumerate(learning_rate_):\n",
    "        boost_model_ = GradientBoostingRegressor(learning_rate=lr, n_estimators=est)\n",
    "        r2_val = cross_validate(boost_model_, X_train, y_train, cv=k_fold)['test_score']\n",
    "        r2_sort = np.sort(r2_val)\n",
    "        mean_R2[i, j] = np.mean(r2_sort)\n",
    "        lower_CI[i, j] = r2_sort[int(0.05 * k_fold)] # here we assume 90% confidence\n",
    "        upper_CI[i, j] = r2_sort[int(0.95 * k_fold) - 1]"
   ]
  },
  {
   "cell_type": "markdown",
   "metadata": {},
   "source": [
    "We visualize how the hyperparameter changes the $R^2$ value:"
   ]
  },
  {
   "cell_type": "code",
   "execution_count": 29,
   "metadata": {},
   "outputs": [
    {
     "data": {
      "text/plain": [
       "<matplotlib.legend.Legend at 0x25781169c70>"
      ]
     },
     "execution_count": 29,
     "metadata": {},
     "output_type": "execute_result"
    },
    {
     "data": {
      "image/png": "[encoded data removed]",
      "text/plain": [
       "<Figure size 432x288 with 1 Axes>"
      ]
     },
     "metadata": {
      "needs_background": "light"
     },
     "output_type": "display_data"
    }
   ],
   "source": [
    "for i, lr in enumerate(learning_rate_):\n",
    "    CI_error = [mean_R2[:, i] - lower_CI[:, i], upper_CI[:, i] - mean_R2[:, i]]\n",
    "    plt.errorbar(n_estimators_, mean_R2[:, i], yerr=CI_error, label='learning_rate={}'.format(lr))\n",
    "plt.xlabel('number of estimators')\n",
    "plt.ylabel('$R^2$')\n",
    "plt.legend()"
   ]
  },
  {
   "cell_type": "markdown",
   "metadata": {},
   "source": [
    "We look more closely at the curve for learning rate = 0.1 and 0.05:"
   ]
  },
  {
   "cell_type": "code",
   "execution_count": 30,
   "metadata": {},
   "outputs": [
    {
     "data": {
      "text/plain": [
       "<matplotlib.legend.Legend at 0x25782bcad30>"
      ]
     },
     "execution_count": 30,
     "metadata": {},
     "output_type": "execute_result"
    },
    {
     "data": {
      "image/png": "[encoded data removed]",
      "text/plain": [
       "<Figure size 432x288 with 1 Axes>"
      ]
     },
     "metadata": {
      "needs_background": "light"
     },
     "output_type": "display_data"
    }
   ],
   "source": [
    "for i, lr in enumerate([0.1, 0.05]):\n",
    "    CI_error = [mean_R2[:, i] - lower_CI[:, i], upper_CI[:, i] - mean_R2[:, i]]\n",
    "    plt.errorbar(n_estimators_, mean_R2[:, i], yerr=CI_error, label='learning_rate={}'.format(lr))\n",
    "plt.xlabel('number of estimators')\n",
    "plt.ylabel('R^2')\n",
    "plt.legend()"
   ]
  },
  {
   "cell_type": "markdown",
   "metadata": {},
   "source": [
    "Since they are very close, we just choose the hyperparameter with highest mean $R^2$ value:"
   ]
  },
  {
   "cell_type": "code",
   "execution_count": 31,
   "metadata": {},
   "outputs": [
    {
     "data": {
      "text/plain": [
       "array([[0.99987254, 0.99976734, 0.84973963],\n",
       "       [0.99988059, 0.99988702, 0.97646862],\n",
       "       [0.9998635 , 0.99987804, 0.99605258],\n",
       "       [0.99988234, 0.99988141, 0.99922076]])"
      ]
     },
     "execution_count": 31,
     "metadata": {},
     "output_type": "execute_result"
    }
   ],
   "source": [
    "# Look at the means and find the largest\n",
    "mean_R2"
   ]
  },
  {
   "cell_type": "markdown",
   "metadata": {},
   "source": [
    "Therefore, we use the learning rate = 0.05 and number of estimators = 300"
   ]
  },
  {
   "cell_type": "code",
   "execution_count": 32,
   "metadata": {},
   "outputs": [
    {
     "name": "stdout",
     "output_type": "stream",
     "text": [
      "With learning rate = 0.05 and 300 estimators, the coefficient of determination (R^2) is: 0.9996253158019668\n"
     ]
    }
   ],
   "source": [
    "# learning rate = 0.05 and number of estimators = 300\n",
    "best_boost_model = GradientBoostingRegressor(learning_rate=0.05, n_estimators=300)\n",
    "# Train the model and compute the coefficient of determination\n",
    "best_boost_model.fit(X_train, y_train)\n",
    "r2_boost = best_boost_model.score(X_test, y_test)\n",
    "print('With learning rate = 0.05 and 300 estimators, the coefficient of determination (R^2) is: ' + str(r2_boost))"
   ]
  },
  {
   "cell_type": "markdown",
   "metadata": {},
   "source": [
    "**Task4 Question 4**\n",
    "\n",
    "The R^2 value is much higher than the result in **3.4**. Under this setup, R^2 is almost one, fullying explaining the variance in test data.\n",
    "\n",
    "However, it is unfair to directly compare the two setups simply by face values, for the following reasons:\n",
    "1. In **4.3**, hyperparameter tuning is performed to find the best hyperparameter, while **3.4** uses the default hyperparameter.\n",
    "2. In **4.3**, cross-validation is used to reduce variance and prevent overfitting during hyperparameter tuning, thus finding the hyperparameter less overfitted. In contrast, **3.4** directly trains the model on the whole training set.\n",
    "\n",
    "A straightforward way is to repeat the hyperparameter tuning and cross-validation process in **3.4**. Then, we may compare the difference between the two setups.\n"
   ]
  },
  {
   "cell_type": "markdown",
   "metadata": {},
   "source": [
    "## Part 2: Second Album Syndrome\n",
    "\n",
    "Your second project at *Piccardi Music* is to shed light on one of the business's oldest enigmas: the \"second album syndrome.\" In a nutshell, the \"second album syndrome\" is a theory that states that the second album of a band always sucks. ([Related read](https://tvtropes.org/pmwiki/pmwiki.php/Main/SophomoreSlump))\n",
    "\n",
    "Assume—for the purpose of this task—that the Pitchfork data contains all albums for all artists it covers (even though this might not be true in reality)."
   ]
  },
  {
   "cell_type": "markdown",
   "metadata": {
    "pycharm": {
     "name": "#%% md\n"
    }
   },
   "source": [
    "**Task 5 (Preliminary analyses — 8 pts)**\n",
    "\n",
    "You begin by carrying out some preliminary data processing and analyses.\n",
    "\n",
    "1. Create a new dataframe (from the original data with duplicates dropped, the same as you obtained after finishing Task 1.1) containing only albums from artists with two or more albums and where the release year is not empty.\n",
    "2. Create a new column `album_number` which indicates how many albums the artist has produced before this one (before the second album, the artist has already produced one album).\n",
    "3. Calculate the mean and the standard error of the mean of the scores of the first and second albums in the dataset. Additionally, plot the two distributions. \n",
    "4. Use an appropriate method to determine if the difference in means of 1st and 2nd albums is statistically significant?\n",
    "5. **Discuss:** Do these analyses suggest that the \"second album syndrome\" exists?\n",
    "\n",
    "---"
   ]
  },
  {
   "cell_type": "markdown",
   "metadata": {},
   "source": [
    "**Task 5 Question 1**"
   ]
  },
  {
   "cell_type": "markdown",
   "metadata": {},
   "source": [
    "We first compute the number of albums by each of the artists."
   ]
  },
  {
   "cell_type": "code",
   "execution_count": 33,
   "metadata": {},
   "outputs": [
    {
     "data": {
      "text/plain": [
       "Neil Young                            27\n",
       "Bonnie “Prince” Billy                 22\n",
       "Guided by Voices                      20\n",
       "Animal Collective                     20\n",
       "Gucci Mane                            19\n",
       "                                      ..\n",
       "Shenandoah Davis                       1\n",
       "Akira Kosemura                         1\n",
       "Dent May & His Magnificent Ukulele     1\n",
       "Noah Georgeson                         1\n",
       "D√¢m-Funk                              1\n",
       "Name: artist, Length: 7892, dtype: int64"
      ]
     },
     "execution_count": 33,
     "metadata": {},
     "output_type": "execute_result"
    }
   ],
   "source": [
    "df_artist_album_num = df_drop_duplicates['artist'].value_counts()\n",
    "df_artist_album_num"
   ]
  },
  {
   "cell_type": "markdown",
   "metadata": {},
   "source": [
    "Then, we select those rows whose artist has more than one albums based on df_artist_album_num"
   ]
  },
  {
   "cell_type": "code",
   "execution_count": 34,
   "metadata": {},
   "outputs": [
    {
     "data": {
      "text/html": [
       "<div>\n",
       "<style scoped>\n",
       "    .dataframe tbody tr th:only-of-type {\n",
       "        vertical-align: middle;\n",
       "    }\n",
       "\n",
       "    .dataframe tbody tr th {\n",
       "        vertical-align: top;\n",
       "    }\n",
       "\n",
       "    .dataframe thead th {\n",
       "        text-align: right;\n",
       "    }\n",
       "</style>\n",
       "<table border=\"1\" class=\"dataframe\">\n",
       "  <thead>\n",
       "    <tr style=\"text-align: right;\">\n",
       "      <th></th>\n",
       "      <th>artist</th>\n",
       "      <th>album</th>\n",
       "      <th>reviewauthor</th>\n",
       "      <th>score</th>\n",
       "      <th>releaseyear</th>\n",
       "      <th>reviewdate</th>\n",
       "      <th>recordlabel</th>\n",
       "      <th>genre</th>\n",
       "      <th>danceability</th>\n",
       "      <th>energy</th>\n",
       "      <th>key</th>\n",
       "      <th>loudness</th>\n",
       "      <th>speechiness</th>\n",
       "      <th>acousticness</th>\n",
       "      <th>instrumentalness</th>\n",
       "      <th>liveness</th>\n",
       "      <th>valence</th>\n",
       "      <th>tempo</th>\n",
       "    </tr>\n",
       "  </thead>\n",
       "  <tbody>\n",
       "    <tr>\n",
       "      <th>15221</th>\n",
       "      <td>CocoRosie</td>\n",
       "      <td>The Adventures of Ghosthorse and Stillborn</td>\n",
       "      <td>Marc Hogan</td>\n",
       "      <td>2.3</td>\n",
       "      <td>2007.0</td>\n",
       "      <td>April 19 2007</td>\n",
       "      <td>Touch and Go</td>\n",
       "      <td>Folk/Country</td>\n",
       "      <td>0.473250</td>\n",
       "      <td>0.418358</td>\n",
       "      <td>4.166667</td>\n",
       "      <td>-12.260083</td>\n",
       "      <td>0.106233</td>\n",
       "      <td>0.678892</td>\n",
       "      <td>0.020027</td>\n",
       "      <td>0.306867</td>\n",
       "      <td>0.232733</td>\n",
       "      <td>118.363583</td>\n",
       "    </tr>\n",
       "    <tr>\n",
       "      <th>15164</th>\n",
       "      <td>American Analog Set</td>\n",
       "      <td>Promise of Love</td>\n",
       "      <td>William Bowers</td>\n",
       "      <td>7.9</td>\n",
       "      <td>2003.0</td>\n",
       "      <td>July 8 2003</td>\n",
       "      <td>Tiger Style</td>\n",
       "      <td>Rock</td>\n",
       "      <td>0.570000</td>\n",
       "      <td>0.550250</td>\n",
       "      <td>4.000000</td>\n",
       "      <td>-9.922750</td>\n",
       "      <td>0.045675</td>\n",
       "      <td>0.350847</td>\n",
       "      <td>0.640375</td>\n",
       "      <td>0.125713</td>\n",
       "      <td>0.391950</td>\n",
       "      <td>124.408125</td>\n",
       "    </tr>\n",
       "    <tr>\n",
       "      <th>13505</th>\n",
       "      <td>PJ Harvey</td>\n",
       "      <td>Rid of Me</td>\n",
       "      <td>Judy Berman</td>\n",
       "      <td>10.0</td>\n",
       "      <td>1993.0</td>\n",
       "      <td>September 16 2018</td>\n",
       "      <td>Island Records</td>\n",
       "      <td>Rock</td>\n",
       "      <td>0.454643</td>\n",
       "      <td>0.440036</td>\n",
       "      <td>6.357143</td>\n",
       "      <td>-17.020571</td>\n",
       "      <td>0.050500</td>\n",
       "      <td>0.066691</td>\n",
       "      <td>0.165353</td>\n",
       "      <td>0.216093</td>\n",
       "      <td>0.587143</td>\n",
       "      <td>126.762500</td>\n",
       "    </tr>\n",
       "    <tr>\n",
       "      <th>1408</th>\n",
       "      <td>Clinic</td>\n",
       "      <td>Internal Wrangler</td>\n",
       "      <td>Matt LeMay</td>\n",
       "      <td>9.3</td>\n",
       "      <td>2000.0</td>\n",
       "      <td>May 2 2000</td>\n",
       "      <td>Domino</td>\n",
       "      <td>Electronic</td>\n",
       "      <td>0.470538</td>\n",
       "      <td>0.627615</td>\n",
       "      <td>6.384615</td>\n",
       "      <td>-10.060385</td>\n",
       "      <td>0.047077</td>\n",
       "      <td>0.253197</td>\n",
       "      <td>0.460435</td>\n",
       "      <td>0.198454</td>\n",
       "      <td>0.378385</td>\n",
       "      <td>126.702154</td>\n",
       "    </tr>\n",
       "  </tbody>\n",
       "</table>\n",
       "</div>"
      ],
      "text/plain": [
       "                    artist                                       album  \\\n",
       "15221            CocoRosie  The Adventures of Ghosthorse and Stillborn   \n",
       "15164  American Analog Set                             Promise of Love   \n",
       "13505            PJ Harvey                                   Rid of Me   \n",
       "1408                Clinic                           Internal Wrangler   \n",
       "\n",
       "         reviewauthor  score  releaseyear         reviewdate     recordlabel  \\\n",
       "15221      Marc Hogan    2.3       2007.0      April 19 2007    Touch and Go   \n",
       "15164  William Bowers    7.9       2003.0        July 8 2003     Tiger Style   \n",
       "13505     Judy Berman   10.0       1993.0  September 16 2018  Island Records   \n",
       "1408       Matt LeMay    9.3       2000.0         May 2 2000          Domino   \n",
       "\n",
       "              genre  danceability    energy       key   loudness  speechiness  \\\n",
       "15221  Folk/Country      0.473250  0.418358  4.166667 -12.260083     0.106233   \n",
       "15164          Rock      0.570000  0.550250  4.000000  -9.922750     0.045675   \n",
       "13505          Rock      0.454643  0.440036  6.357143 -17.020571     0.050500   \n",
       "1408     Electronic      0.470538  0.627615  6.384615 -10.060385     0.047077   \n",
       "\n",
       "       acousticness  instrumentalness  liveness   valence       tempo  \n",
       "15221      0.678892          0.020027  0.306867  0.232733  118.363583  \n",
       "15164      0.350847          0.640375  0.125713  0.391950  124.408125  \n",
       "13505      0.066691          0.165353  0.216093  0.587143  126.762500  \n",
       "1408       0.253197          0.460435  0.198454  0.378385  126.702154  "
      ]
     },
     "execution_count": 34,
     "metadata": {},
     "output_type": "execute_result"
    }
   ],
   "source": [
    "df_task_5 = df_drop_duplicates[df_drop_duplicates['artist'].map(lambda x: df_artist_album_num[x]) > 1].where(lambda x: x['releaseyear'].notna())\n",
    "df_task_5.sample(4)"
   ]
  },
  {
   "cell_type": "markdown",
   "metadata": {},
   "source": [
    "**Task 5 Question 2**"
   ]
  },
  {
   "cell_type": "code",
   "execution_count": 35,
   "metadata": {},
   "outputs": [
    {
     "data": {
      "text/html": [
       "<div>\n",
       "<style scoped>\n",
       "    .dataframe tbody tr th:only-of-type {\n",
       "        vertical-align: middle;\n",
       "    }\n",
       "\n",
       "    .dataframe tbody tr th {\n",
       "        vertical-align: top;\n",
       "    }\n",
       "\n",
       "    .dataframe thead th {\n",
       "        text-align: right;\n",
       "    }\n",
       "</style>\n",
       "<table border=\"1\" class=\"dataframe\">\n",
       "  <thead>\n",
       "    <tr style=\"text-align: right;\">\n",
       "      <th></th>\n",
       "      <th>artist</th>\n",
       "      <th>album</th>\n",
       "      <th>reviewauthor</th>\n",
       "      <th>score</th>\n",
       "      <th>releaseyear</th>\n",
       "      <th>reviewdate</th>\n",
       "      <th>recordlabel</th>\n",
       "      <th>genre</th>\n",
       "      <th>danceability</th>\n",
       "      <th>energy</th>\n",
       "      <th>key</th>\n",
       "      <th>loudness</th>\n",
       "      <th>speechiness</th>\n",
       "      <th>acousticness</th>\n",
       "      <th>instrumentalness</th>\n",
       "      <th>liveness</th>\n",
       "      <th>valence</th>\n",
       "      <th>tempo</th>\n",
       "      <th>album_number</th>\n",
       "    </tr>\n",
       "  </thead>\n",
       "  <tbody>\n",
       "    <tr>\n",
       "      <th>4615</th>\n",
       "      <td>Brilliant Colors</td>\n",
       "      <td>Again and Again</td>\n",
       "      <td>Martin Douglas</td>\n",
       "      <td>6.8</td>\n",
       "      <td>2011.0</td>\n",
       "      <td>July 12 2011</td>\n",
       "      <td>Slumberland</td>\n",
       "      <td>Experimental</td>\n",
       "      <td>0.826000</td>\n",
       "      <td>0.681000</td>\n",
       "      <td>4.000000</td>\n",
       "      <td>-5.837000</td>\n",
       "      <td>0.046300</td>\n",
       "      <td>0.573000</td>\n",
       "      <td>0.135000</td>\n",
       "      <td>0.098900</td>\n",
       "      <td>0.339000</td>\n",
       "      <td>100.007000</td>\n",
       "      <td>1.0</td>\n",
       "    </tr>\n",
       "    <tr>\n",
       "      <th>9925</th>\n",
       "      <td>The Blow</td>\n",
       "      <td>Paper Television</td>\n",
       "      <td>Zach Baron</td>\n",
       "      <td>8.3</td>\n",
       "      <td>2006.0</td>\n",
       "      <td>October 26 2006</td>\n",
       "      <td>K</td>\n",
       "      <td>Pop/R&amp;B</td>\n",
       "      <td>0.777000</td>\n",
       "      <td>0.600400</td>\n",
       "      <td>4.500000</td>\n",
       "      <td>-7.593200</td>\n",
       "      <td>0.090890</td>\n",
       "      <td>0.179676</td>\n",
       "      <td>0.041917</td>\n",
       "      <td>0.145290</td>\n",
       "      <td>0.603300</td>\n",
       "      <td>135.935500</td>\n",
       "      <td>3.0</td>\n",
       "    </tr>\n",
       "    <tr>\n",
       "      <th>12442</th>\n",
       "      <td>The Flaming Lips</td>\n",
       "      <td>Oczy Mlody</td>\n",
       "      <td>Stuart Berman</td>\n",
       "      <td>6.2</td>\n",
       "      <td>2017.0</td>\n",
       "      <td>January 18 2017</td>\n",
       "      <td>Warner Bros.</td>\n",
       "      <td>Rock</td>\n",
       "      <td>0.489583</td>\n",
       "      <td>0.543167</td>\n",
       "      <td>5.166667</td>\n",
       "      <td>-11.171917</td>\n",
       "      <td>0.044250</td>\n",
       "      <td>0.316367</td>\n",
       "      <td>0.549267</td>\n",
       "      <td>0.165258</td>\n",
       "      <td>0.169217</td>\n",
       "      <td>125.786417</td>\n",
       "      <td>11.0</td>\n",
       "    </tr>\n",
       "    <tr>\n",
       "      <th>3146</th>\n",
       "      <td>Moby</td>\n",
       "      <td>Everything Was Beautiful, and Nothing Hurt</td>\n",
       "      <td>Sasha Geffen</td>\n",
       "      <td>5.7</td>\n",
       "      <td>2018.0</td>\n",
       "      <td>March 10 2018</td>\n",
       "      <td>Little Idiot</td>\n",
       "      <td>Electronic</td>\n",
       "      <td>0.489250</td>\n",
       "      <td>0.684750</td>\n",
       "      <td>4.250000</td>\n",
       "      <td>-8.463000</td>\n",
       "      <td>0.063658</td>\n",
       "      <td>0.480092</td>\n",
       "      <td>0.636206</td>\n",
       "      <td>0.103650</td>\n",
       "      <td>0.307417</td>\n",
       "      <td>125.658333</td>\n",
       "      <td>5.0</td>\n",
       "    </tr>\n",
       "  </tbody>\n",
       "</table>\n",
       "</div>"
      ],
      "text/plain": [
       "                 artist                                       album  \\\n",
       "4615   Brilliant Colors                             Again and Again   \n",
       "9925           The Blow                            Paper Television   \n",
       "12442  The Flaming Lips                                  Oczy Mlody   \n",
       "3146               Moby  Everything Was Beautiful, and Nothing Hurt   \n",
       "\n",
       "         reviewauthor  score  releaseyear       reviewdate   recordlabel  \\\n",
       "4615   Martin Douglas    6.8       2011.0     July 12 2011   Slumberland   \n",
       "9925       Zach Baron    8.3       2006.0  October 26 2006             K   \n",
       "12442   Stuart Berman    6.2       2017.0  January 18 2017  Warner Bros.   \n",
       "3146     Sasha Geffen    5.7       2018.0    March 10 2018  Little Idiot   \n",
       "\n",
       "              genre  danceability    energy       key   loudness  speechiness  \\\n",
       "4615   Experimental      0.826000  0.681000  4.000000  -5.837000     0.046300   \n",
       "9925        Pop/R&B      0.777000  0.600400  4.500000  -7.593200     0.090890   \n",
       "12442          Rock      0.489583  0.543167  5.166667 -11.171917     0.044250   \n",
       "3146     Electronic      0.489250  0.684750  4.250000  -8.463000     0.063658   \n",
       "\n",
       "       acousticness  instrumentalness  liveness   valence       tempo  \\\n",
       "4615       0.573000          0.135000  0.098900  0.339000  100.007000   \n",
       "9925       0.179676          0.041917  0.145290  0.603300  135.935500   \n",
       "12442      0.316367          0.549267  0.165258  0.169217  125.786417   \n",
       "3146       0.480092          0.636206  0.103650  0.307417  125.658333   \n",
       "\n",
       "       album_number  \n",
       "4615            1.0  \n",
       "9925            3.0  \n",
       "12442          11.0  \n",
       "3146            5.0  "
      ]
     },
     "execution_count": 35,
     "metadata": {},
     "output_type": "execute_result"
    }
   ],
   "source": [
    "# Group w.r.t. artist, then ranking the releaseyear\n",
    "df_task_5['album_number'] =  df_task_5.groupby('artist')['releaseyear'].rank(method='first') - 1 # first is necessary here.\n",
    "df_task_5.sample(4)"
   ]
  },
  {
   "cell_type": "markdown",
   "metadata": {},
   "source": [
    "**Task 5 Question 3**"
   ]
  },
  {
   "cell_type": "code",
   "execution_count": 36,
   "metadata": {},
   "outputs": [
    {
     "name": "stdout",
     "output_type": "stream",
     "text": [
      "first_album_score: mean - 7.298905723905722, std - 1.2376071872400674\n",
      "second_album_score: mean - 7.043294051627362, std - 1.2712995562963951\n"
     ]
    },
    {
     "data": {
      "image/png": "[encoded data removed]",
      "text/plain": [
       "<Figure size 432x288 with 1 Axes>"
      ]
     },
     "metadata": {
      "needs_background": "light"
     },
     "output_type": "display_data"
    }
   ],
   "source": [
    "# Get the score of first two albulms\n",
    "first_album_score = df_task_5[df_task_5['album_number']==0]['score']\n",
    "second_album_score = df_task_5[df_task_5['album_number']==1]['score']\n",
    "print(f'first_album_score: mean - {first_album_score.mean()}, std - {first_album_score.std()}')\n",
    "print(f'second_album_score: mean - {second_album_score.mean()}, std - {second_album_score.std()}')\n",
    "# Visualize the distribution\n",
    "plt.hist(first_album_score, bins=50, label='1st')\n",
    "plt.hist(second_album_score, bins=50, label='2nd')\n",
    "plt.legend()\n",
    "plt.show()"
   ]
  },
  {
   "cell_type": "markdown",
   "metadata": {},
   "source": [
    "**Task 5 Question 4**"
   ]
  },
  {
   "cell_type": "code",
   "execution_count": 38,
   "metadata": {},
   "outputs": [
    {
     "data": {
      "text/plain": [
       "Ttest_indResult(statistic=8.60083965713685, pvalue=9.625004156621532e-18)"
      ]
     },
     "execution_count": 38,
     "metadata": {},
     "output_type": "execute_result"
    }
   ],
   "source": [
    "# Perform t test, null hypothesis: no difference between two scores\n",
    "ttest_ind(first_album_score, second_album_score)"
   ]
  },
  {
   "cell_type": "markdown",
   "metadata": {},
   "source": [
    "**Task 5 Question 5**"
   ]
  },
  {
   "cell_type": "markdown",
   "metadata": {},
   "source": [
    "Yes. The score of the second album is statistically different (lower) than the first one, with $p\\ll 0.01$."
   ]
  },
  {
   "cell_type": "markdown",
   "metadata": {},
   "source": [
    "**Task 6 (Regression analysis — 20 pts)**\n",
    "\n",
    "Next, you proceed to examine some hypotheses about the \"second album syndrome\" using a regression framework. Namely:\n",
    "\n",
    "- The **time spent hypothesis:**  the first album usually has a couple of years of development under its belt and plenty of trial and error from live concerts to help the band determine what does or doesn't work. The second album, on the other hand, is often made in a rush.\n",
    "\n",
    "- The **style change hypothesis:** bands often try to change their style after their first album. This change is not always welcomed by the listeners.\n",
    "\n",
    "1. Create a new dataframe containing one row per 1st-2nd album pair. The dataframe should contain rows:\n",
    "    - `score_diff`: the difference in scores between the second and the first album (second - first).\n",
    "    - `time_diff`: the number of days elapsed between the first and the second album.\n",
    "    - `did_style_change`: a dummy variable that indicates whether the style of the music has changed. To obtain it, first, calculate the [standardized euclidean distance](https://docs.scipy.org/doc/scipy/reference/generated/scipy.spatial.distance.seuclidean.html) of music-related numerical features¹ between the second and the first album. Second, assign 1 to the 20% most distant 1st-2nd album pairs and 0 to all others.\n",
    "2. Fit a linear regression using `statsmodels` with this dataframe. Your regression should consider only an intercept, i.e., `\"score_diff ~ 1\"`.\n",
    "3. **Discuss:** Interpret the $R^2$ in your regression here. Does this analysis confirm what you observed in Task 5? Why?\n",
    "4. Include the `time_diff` and `did_style_change` as covariates in your model. Fit the regression again and report the summary of your model. \n",
    "5. **Discuss:** Interpret the coefficients `time_diff` and `did_style_change`. Carefully explain whether they provide evidence towards each of the aforementioned hypotheses? Do they rule out other reasons that may cause the \"second album syndrome effect\"?\n",
    "6. Create a new column called `time_diff_standardized`. It should be a standardized version of the `time_diff` column. Repeat the regression done in 6.4 using the `time_diff_standardized` column instead of the `time_diff` column.\n",
    "7. **Discuss:** Explain how the interpretation of the coefficients associated with this new column `time_diff_standardized` differ from its non-standardized version \n",
    "`time_diff`?\n",
    "\n",
    "--- \n",
    "\n",
    "**¹** Music related numerical features are:  \"key\", \"acousticness\", \"danceability\", \"energy\", \"instrumentalness\", \"liveness\", \"loudness\", \"speechiness\", \"valence\", and \"tempo\".\n"
   ]
  },
  {
   "cell_type": "markdown",
   "metadata": {},
   "source": [
    "**Task 6 Question 1**"
   ]
  },
  {
   "cell_type": "code",
   "execution_count": 39,
   "metadata": {},
   "outputs": [],
   "source": [
    "first_album = df_task_5[df_task_5['album_number']==0].sort_values(by=['artist']).reset_index() # need to reset_index otherwise line 7 will give nan\n",
    "second_album = df_task_5[df_task_5['album_number']==1].sort_values(by=['artist']).reset_index() \n",
    "music_related = [\"key\", \"acousticness\", \"danceability\", \"energy\", \"instrumentalness\", \"liveness\", \"loudness\", \"speechiness\", \"valence\", \"tempo\"]\n",
    "music_related_1 = list(map(lambda x: x+'_1', music_related))\n",
    "# Build the new dataframe: \n",
    "df_task_6 = pd.DataFrame()\n",
    "df_task_6['artist'] = first_album['artist']\n",
    "df_task_6['1st album'] = first_album['album']\n",
    "df_task_6['2st album'] = second_album['album']\n",
    "df_task_6['score_diff'] = second_album['score'] - first_album['score']\n",
    "df_task_6['time_diff'] = second_album['releaseyear'] - first_album['releaseyear']\n",
    "\n",
    "# Concat music features from two albulms for computing the did_style_change\n",
    "all_music_related = pd.concat([first_album[music_related], first_album[music_related]], keys=music_related)\n",
    "all_music_related_var = all_music_related.var()\n",
    "second_album_1 = second_album.rename(columns=dict(zip(music_related, music_related_1)))\n",
    "df_tmp = pd.concat([first_album, second_album_1], axis=1)\n",
    "\n",
    "# Compute the colomn: did_style_change\n",
    "df_task_6['did_style_change'] = df_tmp.apply(lambda row: seuclidean(row[music_related], row[music_related_1], all_music_related_var), axis=1)\n",
    "threshold = df_task_6['did_style_change'].sort_values(ascending=False)[int(0.2 * len(df_task_6.index))]\n",
    "df_task_6['did_style_change'] = (df_task_6['did_style_change'] > threshold).astype(int)"
   ]
  },
  {
   "cell_type": "markdown",
   "metadata": {},
   "source": [
    "**Task 6 Question 2**\n",
    "\n",
    "Regress score_diff with time_diff and did_style_change"
   ]
  },
  {
   "cell_type": "code",
   "execution_count": 40,
   "metadata": {},
   "outputs": [
    {
     "name": "stdout",
     "output_type": "stream",
     "text": [
      "                            OLS Regression Results                            \n",
      "==============================================================================\n",
      "Dep. Variable:             score_diff   R-squared:                       0.000\n",
      "Model:                            OLS   Adj. R-squared:                  0.000\n",
      "Method:                 Least Squares   F-statistic:                       nan\n",
      "Date:                Fri, 26 Nov 2021   Prob (F-statistic):                nan\n",
      "Time:                        21:02:56   Log-Likelihood:                -6207.4\n",
      "No. Observations:                3564   AIC:                         1.242e+04\n",
      "Df Residuals:                    3563   BIC:                         1.242e+04\n",
      "Df Model:                           0                                         \n",
      "Covariance Type:            nonrobust                                         \n",
      "==============================================================================\n",
      "                 coef    std err          t      P>|t|      [0.025      0.975]\n",
      "------------------------------------------------------------------------------\n",
      "intercept     -0.2556      0.023    -11.049      0.000      -0.301      -0.210\n",
      "==============================================================================\n",
      "Omnibus:                      362.324   Durbin-Watson:                   1.980\n",
      "Prob(Omnibus):                  0.000   Jarque-Bera (JB):             2244.623\n",
      "Skew:                          -0.266   Prob(JB):                         0.00\n",
      "Kurtosis:                       6.851   Cond. No.                         1.00\n",
      "==============================================================================\n",
      "\n",
      "Notes:\n",
      "[1] Standard Errors assume that the covariance matrix of the errors is correctly specified.\n"
     ]
    }
   ],
   "source": [
    "df_task_6['intercept'] = 1 # this creates a columns for better visualization of the intercept when fitting\n",
    "X = df_task_6['intercept']\n",
    "Y = df_task_6['score_diff']\n",
    "model = sm.OLS(Y, X).fit() # fit model\n",
    "predictions = model.predict(X) \n",
    "print_model = model.summary()\n",
    "print(print_model)"
   ]
  },
  {
   "cell_type": "markdown",
   "metadata": {},
   "source": [
    "**Task 6 Question 3**\n",
    "\n",
    "$R^2=0.000$, which means that the intercept is the mean. Since the intercept$=-0.2556<0$ and the std$=0.023$ and the $p$ value is close to zero, it can illustrate the second album syndrome that the second album's score is lower than the first album's."
   ]
  },
  {
   "cell_type": "markdown",
   "metadata": {},
   "source": [
    "**Task 6 Question 4**"
   ]
  },
  {
   "cell_type": "code",
   "execution_count": 41,
   "metadata": {},
   "outputs": [
    {
     "name": "stdout",
     "output_type": "stream",
     "text": [
      "                            OLS Regression Results                            \n",
      "==============================================================================\n",
      "Dep. Variable:             score_diff   R-squared:                       0.019\n",
      "Model:                            OLS   Adj. R-squared:                  0.018\n",
      "Method:                 Least Squares   F-statistic:                     33.72\n",
      "Date:                Fri, 26 Nov 2021   Prob (F-statistic):           3.11e-15\n",
      "Time:                        21:03:01   Log-Likelihood:                -6174.0\n",
      "No. Observations:                3564   AIC:                         1.235e+04\n",
      "Df Residuals:                    3561   BIC:                         1.237e+04\n",
      "Df Model:                           2                                         \n",
      "Covariance Type:            nonrobust                                         \n",
      "====================================================================================\n",
      "                       coef    std err          t      P>|t|      [0.025      0.975]\n",
      "------------------------------------------------------------------------------------\n",
      "intercept           -0.1187      0.032     -3.697      0.000      -0.182      -0.056\n",
      "did_style_change    -0.0463      0.048     -0.967      0.334      -0.140       0.048\n",
      "time_diff           -0.0335      0.004     -8.154      0.000      -0.042      -0.025\n",
      "==============================================================================\n",
      "Omnibus:                      335.669   Durbin-Watson:                   1.973\n",
      "Prob(Omnibus):                  0.000   Jarque-Bera (JB):             2081.799\n",
      "Skew:                          -0.201   Prob(JB):                         0.00\n",
      "Kurtosis:                       6.723   Cond. No.                         15.1\n",
      "==============================================================================\n",
      "\n",
      "Notes:\n",
      "[1] Standard Errors assume that the covariance matrix of the errors is correctly specified.\n"
     ]
    }
   ],
   "source": [
    "X = df_task_6[['intercept', \"did_style_change\", \"time_diff\"]]\n",
    "Y = df_task_6['score_diff']\n",
    "model = sm.OLS(Y, X).fit()\n",
    "predictions = model.predict(X) \n",
    "print_model = model.summary()\n",
    "print(print_model)"
   ]
  },
  {
   "cell_type": "markdown",
   "metadata": {},
   "source": [
    "**Task 6 Question 5**\n",
    "\n",
    "The coefficients `time_diff` and `did_style_change` are both negative. $p$ value of intercept and time_diff is close to zero, while the $p$ value of the coefficients of `did_style_change` is larger than 0.05. Hence, we should only keep the constant and `time_diff` as covariates. The **style change hypothesis** does not hold.\n",
    "\n",
    "Since the coefficient of `time_diff` is smaller than 0, which indicates a longer time difference will result in lower scores of the second album, contrary to the **time spent hypothesis**. Since the coefficient of `did_style_change` and \"time_diff\" are both close to zero, we will apply standardization to make their coefficient comparable.\n",
    "\n",
    "So far, we can observe that the regression results can support neither the **time spent hypothesis** nor the **style change hypothesis**."
   ]
  },
  {
   "cell_type": "markdown",
   "metadata": {},
   "source": [
    "**Task 6 Question 6**"
   ]
  },
  {
   "cell_type": "code",
   "execution_count": 42,
   "metadata": {},
   "outputs": [
    {
     "name": "stdout",
     "output_type": "stream",
     "text": [
      "                            OLS Regression Results                            \n",
      "==============================================================================\n",
      "Dep. Variable:             score_diff   R-squared:                       0.019\n",
      "Model:                            OLS   Adj. R-squared:                  0.018\n",
      "Method:                 Least Squares   F-statistic:                     33.72\n",
      "Date:                Fri, 26 Nov 2021   Prob (F-statistic):           3.11e-15\n",
      "Time:                        21:03:13   Log-Likelihood:                -6174.0\n",
      "No. Observations:                3564   AIC:                         1.235e+04\n",
      "Df Residuals:                    3561   BIC:                         1.237e+04\n",
      "Df Model:                           2                                         \n",
      "Covariance Type:            nonrobust                                         \n",
      "==========================================================================================\n",
      "                             coef    std err          t      P>|t|      [0.025      0.975]\n",
      "------------------------------------------------------------------------------------------\n",
      "intercept                 -0.2392      0.029     -8.386      0.000      -0.295      -0.183\n",
      "did_style_change          -0.0463      0.048     -0.967      0.334      -0.140       0.048\n",
      "time_diff_standardized    -0.1870      0.023     -8.154      0.000      -0.232      -0.142\n",
      "==============================================================================\n",
      "Omnibus:                      335.669   Durbin-Watson:                   1.973\n",
      "Prob(Omnibus):                  0.000   Jarque-Bera (JB):             2081.799\n",
      "Skew:                          -0.201   Prob(JB):                         0.00\n",
      "Kurtosis:                       6.723   Cond. No.                         2.42\n",
      "==============================================================================\n",
      "\n",
      "Notes:\n",
      "[1] Standard Errors assume that the covariance matrix of the errors is correctly specified.\n"
     ]
    }
   ],
   "source": [
    "df_task_6[\"time_diff_standardized\"] = (df_task_6[\"time_diff\"] - df_task_6[\"time_diff\"].mean())/df_task_6[\"time_diff\"].std()\n",
    "df_task_6[\"did_style_change_standardized\"] = (df_task_6[\"did_style_change\"] - df_task_6[\"did_style_change\"].mean())/df_task_6[\"did_style_change\"].std()\n",
    "df_task_6[\"score_diff_standardized\"] = (df_task_6[\"score_diff\"] - df_task_6[\"score_diff\"].mean())/df_task_6[\"score_diff\"].std()\n",
    "\n",
    "# Replace \"time_diff\" with \"time_diff_standardized\"\n",
    "X = df_task_6[['intercept', \"did_style_change\", \"time_diff_standardized\"]]\n",
    "Y = df_task_6['score_diff']\n",
    "model = sm.OLS(Y, X).fit()\n",
    "predictions = model.predict(X) \n",
    "print_model = model.summary()\n",
    "print(print_model)"
   ]
  },
  {
   "cell_type": "code",
   "execution_count": 43,
   "metadata": {},
   "outputs": [
    {
     "name": "stdout",
     "output_type": "stream",
     "text": [
      "                                   OLS Regression Results                                   \n",
      "============================================================================================\n",
      "Dep. Variable:     score_diff_standardized   R-squared (uncentered):                   0.019\n",
      "Model:                                 OLS   Adj. R-squared (uncentered):              0.018\n",
      "Method:                      Least Squares   F-statistic:                              33.73\n",
      "Date:                     Fri, 26 Nov 2021   Prob (F-statistic):                    3.08e-15\n",
      "Time:                             21:03:17   Log-Likelihood:                         -5023.2\n",
      "No. Observations:                     3564   AIC:                                  1.005e+04\n",
      "Df Residuals:                         3562   BIC:                                  1.006e+04\n",
      "Df Model:                                2                                                  \n",
      "Covariance Type:                 nonrobust                                                  \n",
      "=================================================================================================\n",
      "                                    coef    std err          t      P>|t|      [0.025      0.975]\n",
      "-------------------------------------------------------------------------------------------------\n",
      "did_style_change_standardized    -0.0160      0.017     -0.967      0.334      -0.049       0.016\n",
      "time_diff_standardized           -0.1354      0.017     -8.155      0.000      -0.168      -0.103\n",
      "==============================================================================\n",
      "Omnibus:                      335.669   Durbin-Watson:                   1.973\n",
      "Prob(Omnibus):                  0.000   Jarque-Bera (JB):             2081.799\n",
      "Skew:                          -0.201   Prob(JB):                         0.00\n",
      "Kurtosis:                       6.723   Cond. No.                         1.00\n",
      "==============================================================================\n",
      "\n",
      "Notes:\n",
      "[1] R² is computed without centering (uncentered) since the model does not contain a constant.\n",
      "[2] Standard Errors assume that the covariance matrix of the errors is correctly specified.\n"
     ]
    }
   ],
   "source": [
    "# Replace all covariates as their standardized version. In that case, we do not need intercept anymore.\n",
    "X = df_task_6[[\"did_style_change_standardized\", \"time_diff_standardized\"]]\n",
    "Y = df_task_6['score_diff_standardized']\n",
    "model = sm.OLS(Y, X).fit()\n",
    "predictions = model.predict(X) \n",
    "print_model = model.summary()\n",
    "print(print_model)"
   ]
  },
  {
   "cell_type": "markdown",
   "metadata": {},
   "source": [
    "**Task 6 Question 7**\n",
    "\n",
    "Standardizing the time difference will make its coefficient farther from 0. The coefficient of \"time_diff\"'s 95% confidence interval [-0.042,-0.025], which is close to zero. After standardization, the coefficient of \"time_diff_standardized\"'s 95% confidence interval [-0.232,-0.142]. The negative linear relation would be more clearer. In the meantime, the coefficients of both \"did_style_change\" and \"did_style_change_standardized\" are close to zero, and their $p$ value is significantly larger than 0.05. After standardization, the coefficient of different covariates can be comparable. We can conclude that there is \"time_diff\" is negatively linear related to \"score_diff\", and there is no evidence that \"did_style_change\" have a positive or negative linear relation to \"score_diff\", which further support the conclusion of Question 5: In all, the regression result's can support neither **time spent hypothesis** nor **style change hypothesis**."
   ]
  },
  {
   "cell_type": "markdown",
   "metadata": {
    "pycharm": {
     "name": "#%% md\n"
    }
   },
   "source": [
    "**Task 7 (Sanity checks — 6 pts)**\n",
    "\n",
    "You decide to perform a few last sanity checks for your analysis.\n",
    "\n",
    "1.  **Discuss:** If the Second Album Syndrome existed, i.e., something was special about the second album (as in if it was bad for a very particular reason that afflicted album number 2 more than all others), what would you expect to happen to the mean score of the third album?\n",
    "2. Using the dataset you created in Task 5, calculate the mean and the standard error of the mean for the 1st, 2nd, 3rd, and 4th albums. Test whether the difference between the average score of the second and the third album is statistically significant.\n",
    "3. **Discuss:** Does this suggest that the Second Album Syndrome exists?\n",
    "\n",
    "---\n"
   ]
  },
  {
   "cell_type": "markdown",
   "metadata": {},
   "source": [
    "**Task 7 Question 1**\n",
    "\n",
    "After the second album, the scores should get back to the level of the first album, so we would expect the mean score of the third album to be similar to the score of the one album, or at least higher than the second album."
   ]
  },
  {
   "cell_type": "markdown",
   "metadata": {},
   "source": [
    "**Task 7 Question 2**"
   ]
  },
  {
   "cell_type": "code",
   "execution_count": 44,
   "metadata": {},
   "outputs": [
    {
     "name": "stdout",
     "output_type": "stream",
     "text": [
      "first_album_score: mean - 7.298905723905722, std - 1.2376071872400674\n",
      "second_album_score: mean - 7.043294051627362, std - 1.2712995562963951\n",
      "third_album_score: mean - 7.044820512820498, std - 1.2376071872400674\n",
      "fourth_album_score: mean - 7.041765704584038, std - 1.2712995562963951\n"
     ]
    },
    {
     "data": {
      "image/png": "[encoded data removed]",
      "text/plain": [
       "<Figure size 432x288 with 1 Axes>"
      ]
     },
     "metadata": {
      "needs_background": "light"
     },
     "output_type": "display_data"
    }
   ],
   "source": [
    "# Compute the thrid and forth album scores:\n",
    "third_album_score = df_task_5[df_task_5['album_number']==2]['score']\n",
    "fourth_album_score = df_task_5[df_task_5['album_number']==3]['score']\n",
    "print(f'first_album_score: mean - {first_album_score.mean()}, std - {first_album_score.std()}')\n",
    "print(f'second_album_score: mean - {second_album_score.mean()}, std - {second_album_score.std()}')\n",
    "print(f'third_album_score: mean - {third_album_score.mean()}, std - {first_album_score.std()}')\n",
    "print(f'fourth_album_score: mean - {fourth_album_score.mean()}, std - {second_album_score.std()}')\n",
    "\n",
    "# Display the distributions:\n",
    "plt.hist(first_album_score, bins=50, label='1st')\n",
    "plt.hist(second_album_score, bins=50, label='2nd')\n",
    "plt.hist(third_album_score, bins=50, label='3rd')\n",
    "plt.hist(fourth_album_score, bins=50, label='4th')\n",
    "plt.xlabel('score')\n",
    "plt.legend()\n",
    "plt.show()"
   ]
  },
  {
   "cell_type": "code",
   "execution_count": 45,
   "metadata": {},
   "outputs": [
    {
     "name": "stdout",
     "output_type": "stream",
     "text": [
      "2nd - 3rd: statistic: -0.043213391476414856, p value: 0.965532995457935\n",
      "2rd - 4th: statistic: 0.03609663133925932, p value: 0.9712068283667014\n",
      "3rd - 4th: statistic: 0.06769388226954702, p value: 0.9460336486429095\n"
     ]
    }
   ],
   "source": [
    "statistic_23, pvalue_23 = ttest_ind(second_album_score, third_album_score)\n",
    "statistic_24, pvalue_24 = ttest_ind(second_album_score, fourth_album_score)\n",
    "statistic_34, pvalue_34 = ttest_ind(third_album_score, fourth_album_score)\n",
    "\n",
    "print(f'2nd - 3rd: statistic: {statistic_23}, p value: {pvalue_23}')\n",
    "print(f'2rd - 4th: statistic: {statistic_24}, p value: {pvalue_24}')\n",
    "print(f'3rd - 4th: statistic: {statistic_34}, p value: {pvalue_34}')"
   ]
  },
  {
   "cell_type": "markdown",
   "metadata": {},
   "source": [
    "We notice that $p \\gg 0.05$. Hence the distributions of the 2nd, 3rd, and 4th album are not statistically different.  "
   ]
  },
  {
   "cell_type": "markdown",
   "metadata": {},
   "source": [
    "**Task 7 Question 3**\n",
    "\n",
    "No. Although the score of the second album is statistically significantly ($p \\ll 0.01$) lower than the first one, the distribution of the scores of the second, third, or fourth album is not statistically different. This indicates that the second album is not the special one, but the first album is actually the special one. It is the fact that the first album gets a higher score that gives us the impression of second album syndrome."
   ]
  },
  {
   "cell_type": "markdown",
   "metadata": {},
   "source": [
    "**Task 8 (Eureka — 14 pts)**\n",
    "\n",
    "Your boss, *Signor Piccardi*, proposes that you carry out a simulation to make things clearer. Assuming that:\n",
    "\n",
    "\n",
    "- Each band $i$ has a \"talent\" $\\mu_i$ , which is uniformally distributed between 2 and 8, i.e., $\\mu_i \\sim U_{[2,8]}$.\n",
    "- When a band $i$ produces an album $j$, it has quality $s_j$. This score is normally distributed with mean $\\mu_i$ and standard deviation $1$, i.e., $s_j \\sim N(\\mu_i, 1)$\n",
    "- Talents are independent and identically distributed random variables.\n",
    " \n",
    "Carry out the following simulation:\n",
    "\n",
    "- Create 1000 hypothetical bands with intrinsic talents $\\mu_i \\sim U_{[2,8]}$ for $i \\in [1,1000]$.\n",
    "- Have each hypothetical band create a hypothetical album.\n",
    "- Discard all bands whose albums received a score smaller than 6.\n",
    "- For each of the remaining bands, create two additional albums.\n",
    "\n",
    "Analyzing the scores obtained in this simulation, provide a coherent explanation for the  scores obtained in Task 7.2. \n",
    "\n",
    "--- \n",
    "\n",
    "**Hint:** You can use numpy to sample random variables (e.g. [numpy.random.normal](https://numpy.org/doc/stable/reference/random/generated/numpy.random.normal.html))"
   ]
  },
  {
   "cell_type": "code",
   "execution_count": 46,
   "metadata": {},
   "outputs": [],
   "source": [
    "# Generate random band talent.\n",
    "# We are using np.random.uniform, where the talent is uniformly distributed in [2,8).\n",
    "# Though it is a half-open interval, since the probility for exactly 8 is zero, it doesn't matter here.\n",
    "sim_talent = np.random.uniform(low=2, high=8, size=1000)\n",
    "\n",
    "# Generate the first album data\n",
    "sim_first_album = np.random.normal(sim_talent, 1)"
   ]
  },
  {
   "cell_type": "code",
   "execution_count": 47,
   "metadata": {},
   "outputs": [
    {
     "name": "stdout",
     "output_type": "stream",
     "text": [
      "There are 323 bands has a score over 6 for their first album\n"
     ]
    },
    {
     "data": {
      "text/plain": [
       "Text(0.5, 1.0, 'distribution of talent')"
      ]
     },
     "execution_count": 47,
     "metadata": {},
     "output_type": "execute_result"
    },
    {
     "data": {
      "image/png": "[encoded data removed]",
      "text/plain": [
       "<Figure size 432x288 with 1 Axes>"
      ]
     },
     "metadata": {
      "needs_background": "light"
     },
     "output_type": "display_data"
    }
   ],
   "source": [
    "# Discard bands with score lower than 6\n",
    "sim_filted_index = np.nonzero(sim_first_album>=6)\n",
    "sim_filted_talent = sim_talent[sim_filted_index]\n",
    "print('There are {} bands has a score over 6 for their first album'.format(sim_filted_talent.size))\n",
    "\n",
    "# We will plot the distribution of survived bands' talent.\n",
    "plt.hist(sim_filted_talent, bins=50)\n",
    "plt.title('distribution of talent')"
   ]
  },
  {
   "cell_type": "code",
   "execution_count": 48,
   "metadata": {},
   "outputs": [],
   "source": [
    "# Generate two additional albums\n",
    "sim_second_album = np.random.normal(sim_filted_talent, 1)\n",
    "sim_third_album = np.random.normal(sim_filted_talent, 1)"
   ]
  },
  {
   "cell_type": "code",
   "execution_count": 51,
   "metadata": {},
   "outputs": [],
   "source": [
    "# According to our previous analysis, we will just consider the bands who have more than one album.\n",
    "sim_first_album = sim_first_album[sim_filted_index]"
   ]
  },
  {
   "cell_type": "code",
   "execution_count": 52,
   "metadata": {},
   "outputs": [
    {
     "name": "stdout",
     "output_type": "stream",
     "text": [
      "first album : mean  7.280101824182626, std  0.8920027810005215\n",
      "second album: mean  6.651163335976311, std  1.324707439384033\n",
      "third album : mean  6.715436531265616, std  1.357828314935444\n"
     ]
    }
   ],
   "source": [
    "# Firstly, we will show the mean and std for each album's score.\n",
    "print('first album : mean  {}, std  {}'.format(sim_first_album.mean(), sim_first_album.std()))\n",
    "print('second album: mean  {}, std  {}'.format(sim_second_album.mean(), sim_second_album.std()))\n",
    "print('third album : mean  {}, std  {}'.format(sim_third_album.mean(), sim_third_album.std()))"
   ]
  },
  {
   "cell_type": "code",
   "execution_count": 53,
   "metadata": {},
   "outputs": [
    {
     "name": "stdout",
     "output_type": "stream",
     "text": [
      "1st and 2nd: t-statistic  7.066784487124795, p-value  4.1323269028578414e-12\n",
      "1st and 3rd: t-statistic  6.236905510386485, p-value  8.081793028467138e-10\n",
      "2nd and 3rd: t-statistic  -0.6079868765454005, p-value  0.5434105228219754\n"
     ]
    }
   ],
   "source": [
    "# Then, we also test the difference between average values.\n",
    "statistic_12, pvalue_12 = ttest_ind(sim_first_album, sim_second_album)\n",
    "statistic_13, pvalue_13 = ttest_ind(sim_first_album, sim_third_album)\n",
    "statistic_23, pvalue_23 = ttest_ind(sim_second_album, sim_third_album)\n",
    "\n",
    "print('1st and 2nd: t-statistic  {}, p-value  {}'.format(statistic_12, pvalue_12))\n",
    "print('1st and 3rd: t-statistic  {}, p-value  {}'.format(statistic_13, pvalue_13))\n",
    "print('2nd and 3rd: t-statistic  {}, p-value  {}'.format(statistic_23, pvalue_23))"
   ]
  },
  {
   "cell_type": "markdown",
   "metadata": {},
   "source": [
    "**Discuss:** \n",
    "\n",
    "We can find that there is a significant difference between the first and the second album, while no significant difference between the second and the third one. The simulation result is similar to what we find in task 7.\n",
    "\n",
    "The result is might be caused by the biased selection of bands. In our experiment, we filter out the band whose first album perform poorly. Similarly, in the real data, it is possible that getting a higher score on the first album will encourage the band to issue the later albums, and those who failed in their first album might just give up. Meanwhile, the score of a band's album has some randomness, which is why we use a normal distribution in our simulation. So, many bands with 'low talent' survive because they luckily perform well on the first album, while some bands with 'high talent' unfortunately get filtered out. As a result, when we select the bands producing more than one album, the selection is biased toward the bands lucky on first albums. This leads to higher scores for the first albums of survived albums when the later albums show poorer performance (but no difference between them)."
   ]
  }
 ],
 "metadata": {
  "interpreter": {
   "hash": "db666ba5cfc1e6b340ffb8c99ac64e84d1885a4fc4ce42ed4b6eb0071bb1085a"
  },
  "kernelspec": {
   "display_name": "Python [conda env:ada] *",
   "language": "python",
   "name": "conda-env-ada-py"
  },
  "language_info": {
   "codemirror_mode": {
    "name": "ipython",
    "version": 3
   },
   "file_extension": ".py",
   "mimetype": "text/x-python",
   "name": "python",
   "nbconvert_exporter": "python",
   "pygments_lexer": "ipython3",
   "version": "3.8.11"
  },
  "pycharm": {
   "stem_cell": {
    "cell_type": "raw",
    "metadata": {
     "collapsed": false
    },
    "source": []
   }
  }
 },
 "nbformat": 4,
 "nbformat_minor": 4
}
